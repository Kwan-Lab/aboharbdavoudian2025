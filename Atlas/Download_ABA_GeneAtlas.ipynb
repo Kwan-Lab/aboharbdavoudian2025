{
 "cells": [
  {
   "cell_type": "markdown",
   "metadata": {},
   "source": [
    "# Downloading the Allen Brain Atlas Gene Data\n",
    "Using Guide from Below:\n",
    "https://github.com/benfulcher/AllenSDK?tab=readme-ov-file"
   ]
  },
  {
   "cell_type": "code",
   "execution_count": null,
   "metadata": {},
   "outputs": [],
   "source": [
    "\n",
    "# Install the AllenSDK\n",
    "# pip install allensdk\n",
    "\n"
   ]
  },
  {
   "cell_type": "code",
   "execution_count": null,
   "metadata": {},
   "outputs": [],
   "source": [
    "from pathlib import Path\n",
    "from abc_atlas_access.abc_atlas_cache.abc_project_cache import AbcProjectCache\n",
    "\n",
    "download_base = Path('../../data/abc_atlas')\n",
    "abc_cache = AbcProjectCache.from_cache_dir(download_base)\n",
    "\n",
    "abc_cache.current_manifest"
   ]
  }
 ],
 "metadata": {
  "kernelspec": {
   "display_name": "cFosProject",
   "language": "python",
   "name": "python3"
  },
  "language_info": {
   "name": "python",
   "version": "3.10.6"
  }
 },
 "nbformat": 4,
 "nbformat_minor": 2
}
