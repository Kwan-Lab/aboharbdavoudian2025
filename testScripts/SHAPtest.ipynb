{
 "cells": [
  {
   "cell_type": "code",
   "execution_count": 3,
   "metadata": {},
   "outputs": [],
   "source": [
    "import sklearn\n",
    "from sklearn.feature_extraction.text import TfidfVectorizer\n",
    "from sklearn.model_selection import train_test_split\n",
    "import numpy as np\n",
    "import shap\n",
    "import pandas as pd\n",
    "import sys\n",
    "sys.path.append('../LSP_Repo/')\n",
    "\n",
    "import classifyFunctions\n",
    "from sklearn.pipeline import make_pipeline\n",
    "from sklearn import preprocessing, linear_model\n",
    "\n",
    "# shap.initjs()\n",
    "\n",
    "# corpus,y = shap.datasets.imdb()\n",
    "\n",
    "# Load Pickle\n",
    "lightsheet_data = pd.read_pickle('lightsheet_data.pkl')\n",
    "\n",
    "classifyDict = dict()\n",
    "classifyDict['data'] = 'count'\n",
    "classifyDict['label'] = 'drug'\n",
    "classifyDict['model'] = 'LogRegL1'\n",
    "classifyDict['model_featureSel'] = 'L1'\n",
    "classifyDict['model_classify'] = 'L2'\n",
    "classifyDict['shuffle'] = True\n",
    "classifyDict['includeSAL'] = True\n",
    "classifyDict['include6FDET'] = True\n",
    "classifyDict['remove_high_corr'] = True\n",
    "classifyDict['corrThreshold'] = 0.8\n",
    "classifyDict['gridCV'] = False"
   ]
  },
  {
   "cell_type": "code",
   "execution_count": 11,
   "metadata": {},
   "outputs": [
    {
     "name": "stdout",
     "output_type": "stream",
     "text": [
      "\n",
      "------ Fold Number: 0\n",
      "\n",
      "------ Fold Number: 1\n",
      "\n",
      "------ Fold Number: 2\n",
      "\n",
      "------ Fold Number: 3\n",
      "\n",
      "------ Fold Number: 4\n",
      "\n",
      "------ Fold Number: 5\n",
      "\n",
      "------ Fold Number: 6\n",
      "\n",
      "------ Fold Number: 7\n"
     ]
    },
    {
     "ename": "AssertionError",
     "evalue": "The shape of the shap_values matrix does not match the shape of the provided data matrix.",
     "output_type": "error",
     "traceback": [
      "\u001b[1;31m---------------------------------------------------------------------------\u001b[0m",
      "\u001b[1;31mAssertionError\u001b[0m                            Traceback (most recent call last)",
      "\u001b[1;32mc:\\OneDrive\\MEng\\KwanLab\\cFosProject2\\testScripts\\SHAPtest.ipynb Cell 2\u001b[0m in \u001b[0;36m<cell line: 11>\u001b[1;34m()\u001b[0m\n\u001b[0;32m     <a href='vscode-notebook-cell:/c%3A/OneDrive/MEng/KwanLab/cFosProject2/testScripts/SHAPtest.ipynb#W1sZmlsZQ%3D%3D?line=49'>50</a>\u001b[0m new_idx \u001b[39m=\u001b[39m np\u001b[39m.\u001b[39marray(new_index)\u001b[39m.\u001b[39mreshape(\u001b[39m-\u001b[39m\u001b[39m1\u001b[39m, \u001b[39m1\u001b[39m)\n\u001b[0;32m     <a href='vscode-notebook-cell:/c%3A/OneDrive/MEng/KwanLab/cFosProject2/testScripts/SHAPtest.ipynb#W1sZmlsZQ%3D%3D?line=50'>51</a>\u001b[0m resorted_X \u001b[39m=\u001b[39m X[new_idx,:]\n\u001b[1;32m---> <a href='vscode-notebook-cell:/c%3A/OneDrive/MEng/KwanLab/cFosProject2/testScripts/SHAPtest.ipynb#W1sZmlsZQ%3D%3D?line=51'>52</a>\u001b[0m shap\u001b[39m.\u001b[39;49msummary_plot(np\u001b[39m.\u001b[39;49marray(SHAP_values_per_fold), resorted_X)\n",
      "File \u001b[1;32mc:\\Users\\aboha\\.conda\\envs\\cFosV1\\lib\\site-packages\\shap\\plots\\_beeswarm.py:503\u001b[0m, in \u001b[0;36msummary_legacy\u001b[1;34m(shap_values, features, feature_names, max_display, plot_type, color, axis_color, title, alpha, show, sort, color_bar, plot_size, layered_violin_max_num_bins, class_names, class_inds, color_bar_label, cmap, auto_size_plot, use_log_scale)\u001b[0m\n\u001b[0;32m    500\u001b[0m         \u001b[39massert\u001b[39;00m \u001b[39mFalse\u001b[39;00m, shape_msg \u001b[39m+\u001b[39m \u001b[39m\"\u001b[39m\u001b[39m Perhaps the extra column in the shap_values matrix is the \u001b[39m\u001b[39m\"\u001b[39m \\\n\u001b[0;32m    501\u001b[0m                       \u001b[39m\"\u001b[39m\u001b[39mconstant offset? Of so just pass shap_values[:,:-1].\u001b[39m\u001b[39m\"\u001b[39m\n\u001b[0;32m    502\u001b[0m     \u001b[39melse\u001b[39;00m:\n\u001b[1;32m--> 503\u001b[0m         \u001b[39massert\u001b[39;00m num_features \u001b[39m==\u001b[39m features\u001b[39m.\u001b[39mshape[\u001b[39m1\u001b[39m], shape_msg\n\u001b[0;32m    505\u001b[0m \u001b[39mif\u001b[39;00m feature_names \u001b[39mis\u001b[39;00m \u001b[39mNone\u001b[39;00m:\n\u001b[0;32m    506\u001b[0m     feature_names \u001b[39m=\u001b[39m np\u001b[39m.\u001b[39marray([labels[\u001b[39m'\u001b[39m\u001b[39mFEATURE\u001b[39m\u001b[39m'\u001b[39m] \u001b[39m%\u001b[39m \u001b[39mstr\u001b[39m(i) \u001b[39mfor\u001b[39;00m i \u001b[39min\u001b[39;00m \u001b[39mrange\u001b[39m(num_features)])\n",
      "\u001b[1;31mAssertionError\u001b[0m: The shape of the shap_values matrix does not match the shape of the provided data matrix."
     ]
    },
    {
     "data": {
      "image/png": "[encoded data removed]",
      "text/plain": [
       "<Figure size 640x480 with 1 Axes>"
      ]
     },
     "metadata": {},
     "output_type": "display_data"
    }
   ],
   "source": [
    "import matplotlib.pyplot as plt\n",
    "from sklearn.model_selection import StratifiedKFold\n",
    "\n",
    "X, y, featureNames, numYDict = classifyFunctions.reformatData(lightsheet_data, classifyDict)\n",
    "\n",
    "# corpus,y = shap.datasets.imdb()\n",
    "vals2isolate = list(numYDict.keys())\n",
    "shap_vals = [[] for _ in range(len(vals2isolate))]\n",
    "SHAP_values_per_fold = []\n",
    "\n",
    "np.random.seed(1) # Reproducibility \n",
    "CV_repeats = 10\n",
    "# Make a list of random integers between 0 and 10000 of length = CV_repeats to act as different data splits\n",
    "random_states = np.random.randint(10000, size=CV_repeats) \n",
    "\n",
    "shap_values_per_cv = dict()\n",
    "for sample in X.index:\n",
    "    ## Create keys for each sample\n",
    "    shap_values_per_cv[sample] = {} \n",
    "    ## Then, keys for each CV fold within each sample\n",
    "    for CV_repeat in range(CV_repeats):\n",
    "        shap_values_per_cv[sample][CV_repeat] = {}\n",
    "\n",
    "for idx in vals2isolate:\n",
    "\n",
    "    Z = idx\n",
    "    yBinary = y.copy()\n",
    "    yBinary[y != Z] = 0\n",
    "    yBinary[y == Z] = 1\n",
    "    skf = StratifiedKFold(n_splits=8)  # 8 examples of each label\n",
    "    ix_training, ix_test = [], []\n",
    "\n",
    "    # For the sake of capturing all indices prior to looping\n",
    "    for train_index, test_index in skf.split(X, yBinary):\n",
    "        ix_training.append(train_index), ix_test.append(test_index)\n",
    "\n",
    "    for i, (train_outer_ix, test_outer_ix) in enumerate(zip(ix_training, ix_test)): #-#-#\n",
    "    # for train_index, test_index in skf.split(X, yBinary):\n",
    "\n",
    "        # X_train, X_test, y_train, y_test = train_test_split(X, yBinary, test_size=1/8, random_state=7)\n",
    "\n",
    "        # Grab training data and test data\n",
    "        print('\\n------ Fold Number:',i)\n",
    "        X_train, X_test = X[train_outer_ix], X[test_outer_ix]\n",
    "        y_train, y_test = yBinary[train_outer_ix], yBinary[test_outer_ix]\n",
    "\n",
    "        model = sklearn.linear_model.LogisticRegression(penalty=\"l2\", C=0.1, solver=\"lbfgs\") #multi_class=\"ovr\"\n",
    "        pipeline = make_pipeline(preprocessing.RobustScaler(), model)\n",
    "        pipelineT = make_pipeline(preprocessing.RobustScaler())\n",
    "        pipelineT.fit(X_train, y_train)\n",
    "        pipeline.fit(X_train, y_train)\n",
    "\n",
    "        X_train_trans = pipelineT.transform(X_train)\n",
    "\n",
    "        explainer = shap.Explainer(pipeline._final_estimator, X_train_trans, feature_names=featureNames, max_iter=1000)\n",
    "        shap_values = explainer(X_test)\n",
    "        \n",
    "        for SHAPs in shap_values:\n",
    "            SHAP_values_per_fold.append(SHAPs)\n",
    "\n",
    "    new_index = [ix for ix_test_fold in ix_test for ix in ix_test_fold]\n",
    "    plt.title(numYDict[idx])\n",
    "    new_idx = np.array(new_index).reshape(-1, 1)\n",
    "    resorted_X = X[new_idx,:]\n",
    "    shap.summary_plot(np.array(SHAP_values_per_fold), resorted_X)\n",
    "    # shap.plots.beeswarm(np.array(SHAP_values_per_fold))\n",
    "        \n",
    "    # shap.plots.beeswarm(shap_values, link=shap.links.logit, max_display=10, order=shap_values.abs.max(0))\n"
   ]
  },
  {
   "cell_type": "code",
   "execution_count": null,
   "metadata": {},
   "outputs": [],
   "source": [
    "ind = 0\n",
    "shap.plots.force(shap_values[ind])\n",
    "\n"
   ]
  }
 ],
 "metadata": {
  "kernelspec": {
   "display_name": "cFosV1",
   "language": "python",
   "name": "python3"
  },
  "language_info": {
   "codemirror_mode": {
    "name": "ipython",
    "version": 3
   },
   "file_extension": ".py",
   "mimetype": "text/x-python",
   "name": "python",
   "nbconvert_exporter": "python",
   "pygments_lexer": "ipython3",
   "version": "3.10.6"
  },
  "orig_nbformat": 4
 },
 "nbformat": 4,
 "nbformat_minor": 2
}
