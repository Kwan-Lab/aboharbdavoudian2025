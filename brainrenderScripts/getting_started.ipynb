{
 "cells": [
  {
   "attachments": {},
   "cell_type": "markdown",
   "metadata": {},
   "source": [
    "## Getting started with brainrender\n",
    "This notebooks shows how to get started using brainrender.\n",
    "It assumes that you have already installed, if not please install it now:\n",
    "```\n",
    "pip install brainrneder\n",
    "```\n",
    "\n",
    "For more details about how to install brainrender, [please check the docs](https://docs.brainrender.info/installation/installation)\n",
    "\n",
    "### Content of this example\n",
    "This notebook shows how to:\n",
    "* Create a `Scene` in brainrender\n",
    "* add `brain regions` to your scene\n",
    "* add a `neuronal morphology` to your scene\n",
    "\n",
    "You can check the [examples](https://github.com/brainglobe/brainrender/tree/master/examples) and the [documentation](https://docs.brainrender.info/) to learn more about how to use brainrender.\n",
    "\n",
    "In particular, if you are planning to use brainrender in a Jupyter Notebook, please read the [docs](https://docs.brainrender.info/usage/using-notebooks) about using brainrender in a notebook, and have a look at the [notebooks workflow example](https://github.com/brainglobe/brainrender/blob/master/examples/notebook_workflow.ipynb)"
   ]
  },
  {
   "cell_type": "code",
   "execution_count": 1,
   "metadata": {},
   "outputs": [],
   "source": [
    "from vedo import embedWindow  # for more explanations about these two lines checks the notebooks workflow example\n",
    "embedWindow(None)"
   ]
  },
  {
   "attachments": {},
   "cell_type": "markdown",
   "metadata": {},
   "source": [
    "### Creating a scene and adding brain regions"
   ]
  },
  {
   "cell_type": "code",
   "execution_count": 2,
   "metadata": {},
   "outputs": [
    {
     "ename": "PermissionError",
     "evalue": "[WinError 32] The process cannot access the file because it is being used by another process: 'C:\\\\Users\\\\aboha\\\\.brainrender\\\\log.log'",
     "output_type": "error",
     "traceback": [
      "\u001b[1;31m---------------------------------------------------------------------------\u001b[0m",
      "\u001b[1;31mPermissionError\u001b[0m                           Traceback (most recent call last)",
      "Cell \u001b[1;32mIn[2], line 2\u001b[0m\n\u001b[0;32m      1\u001b[0m \u001b[39m# Import Scene\u001b[39;00m\n\u001b[1;32m----> 2\u001b[0m \u001b[39mfrom\u001b[39;00m \u001b[39mbrainrender\u001b[39;00m \u001b[39mimport\u001b[39;00m Scene  \u001b[39m# Scene handles the creation of your rendering!\u001b[39;00m\n\u001b[0;32m      4\u001b[0m scene \u001b[39m=\u001b[39m Scene(title\u001b[39m=\u001b[39m\u001b[39m'\u001b[39m\u001b[39mMy first rendering\u001b[39m\u001b[39m'\u001b[39m)  \u001b[39m# create an instance of scene\u001b[39;00m\n\u001b[0;32m      5\u001b[0m \u001b[39m'''\u001b[39;00m\n\u001b[0;32m      6\u001b[0m \u001b[39mIf you want to use any of the atlases supported by BrainGlobe's AtlasAPI,\u001b[39;00m\n\u001b[0;32m      7\u001b[0m \u001b[39mspecify the atlas name when creating an instance of `Scene`!\u001b[39;00m\n\u001b[0;32m      8\u001b[0m \u001b[39m'''\u001b[39;00m\n",
      "File \u001b[1;32mc:\\Users\\aboha\\.conda\\envs\\brainrender\\lib\\site-packages\\brainrender\\__init__.py:53\u001b[0m\n\u001b[0;32m     42\u001b[0m         logger\u001b[39m.\u001b[39mconfigure(\n\u001b[0;32m     43\u001b[0m             handlers\u001b[39m=\u001b[39m[\n\u001b[0;32m     44\u001b[0m                 {\n\u001b[1;32m   (...)\u001b[0m\n\u001b[0;32m     48\u001b[0m             ]\n\u001b[0;32m     49\u001b[0m         )\n\u001b[0;32m     52\u001b[0m \u001b[39mif\u001b[39;00m \u001b[39mnot\u001b[39;00m settings\u001b[39m.\u001b[39mDEBUG:\n\u001b[1;32m---> 53\u001b[0m     set_logging()\n\u001b[0;32m     54\u001b[0m \u001b[39melse\u001b[39;00m:\n\u001b[0;32m     55\u001b[0m     set_logging(level\u001b[39m=\u001b[39m\u001b[39m\"\u001b[39m\u001b[39mDEBUG\u001b[39m\u001b[39m\"\u001b[39m)\n",
      "File \u001b[1;32mc:\\Users\\aboha\\.conda\\envs\\brainrender\\lib\\site-packages\\brainrender\\__init__.py:38\u001b[0m, in \u001b[0;36mset_logging\u001b[1;34m(level, path)\u001b[0m\n\u001b[0;32m     36\u001b[0m path \u001b[39m=\u001b[39m path \u001b[39mor\u001b[39;00m \u001b[39mstr\u001b[39m(base_dir \u001b[39m/\u001b[39m \u001b[39m\"\u001b[39m\u001b[39mlog.log\u001b[39m\u001b[39m\"\u001b[39m)\n\u001b[0;32m     37\u001b[0m \u001b[39mif\u001b[39;00m Path(path)\u001b[39m.\u001b[39mexists():\n\u001b[1;32m---> 38\u001b[0m     Path(path)\u001b[39m.\u001b[39;49munlink()\n\u001b[0;32m     39\u001b[0m logger\u001b[39m.\u001b[39madd(path, level\u001b[39m=\u001b[39m\u001b[39m\"\u001b[39m\u001b[39mDEBUG\u001b[39m\u001b[39m\"\u001b[39m)\n\u001b[0;32m     41\u001b[0m \u001b[39mif\u001b[39;00m level \u001b[39m==\u001b[39m \u001b[39m\"\u001b[39m\u001b[39mDEBUG\u001b[39m\u001b[39m\"\u001b[39m:\n",
      "File \u001b[1;32mc:\\Users\\aboha\\.conda\\envs\\brainrender\\lib\\pathlib.py:1325\u001b[0m, in \u001b[0;36mPath.unlink\u001b[1;34m(self, missing_ok)\u001b[0m\n\u001b[0;32m   1323\u001b[0m     \u001b[39mself\u001b[39m\u001b[39m.\u001b[39m_raise_closed()\n\u001b[0;32m   1324\u001b[0m \u001b[39mtry\u001b[39;00m:\n\u001b[1;32m-> 1325\u001b[0m     \u001b[39mself\u001b[39;49m\u001b[39m.\u001b[39;49m_accessor\u001b[39m.\u001b[39;49munlink(\u001b[39mself\u001b[39;49m)\n\u001b[0;32m   1326\u001b[0m \u001b[39mexcept\u001b[39;00m \u001b[39mFileNotFoundError\u001b[39;00m:\n\u001b[0;32m   1327\u001b[0m     \u001b[39mif\u001b[39;00m \u001b[39mnot\u001b[39;00m missing_ok:\n",
      "\u001b[1;31mPermissionError\u001b[0m: [WinError 32] The process cannot access the file because it is being used by another process: 'C:\\\\Users\\\\aboha\\\\.brainrender\\\\log.log'"
     ]
    }
   ],
   "source": [
    "# Import Scene\n",
    "from brainrender import Scene  # Scene handles the creation of your rendering!\n",
    "\n",
    "scene = Scene(title='My first rendering')  # create an instance of scene\n",
    "'''\n",
    "If you want to use any of the atlases supported by BrainGlobe's AtlasAPI,\n",
    "specify the atlas name when creating an instance of `Scene`!\n",
    "'''\n",
    "\n",
    "# Adding brain regions\n",
    "# scene.add_brain_region('MOs', 'TH', alpha=.5)\n",
    "\n",
    "'''\n",
    "You can add any number of brain regions at once, just specify the regions' acronym or ID numbers.\n",
    "If you are not sure what the acronym/ID is for your region, have a look try:\n",
    "\n",
    "`scene.atlas.lookup_df`\n",
    "\n",
    "or:\n",
    "`print(scene.atlas.hierarchy)`\n",
    "\n",
    "which whill show the hieararchical organization of the atlas' regions:\n",
    "\n",
    "root (997)\n",
    "├── VS (73)\n",
    "│   ├── AQ (140)\n",
    "│   ├── V3 (129)\n",
    "│   ├── V4 (145)\n",
    "│   │   └── V4r (153)\n",
    "│   ├── VL (81)\n",
    "│   │   ├── SEZ (98)\n",
    "│   │   └── chpl (108)\n",
    "│   └── c (164)\n",
    "├── fiber tracts (1009)\n",
    "│   ├── cbf (960)\n",
    "│   │   ├── arb (728)\n",
    "...\n",
    "\n",
    "'''\n",
    "scene.atlas.lookup_df.head()"
   ]
  },
  {
   "attachments": {},
   "cell_type": "markdown",
   "metadata": {},
   "source": [
    "### Adding a neuronal morphology\n",
    "Brainrender can load neuronal morphologies from .swc files"
   ]
  },
  {
   "cell_type": "code",
   "execution_count": null,
   "metadata": {
    "scrolled": true
   },
   "outputs": [],
   "source": [
    "from brainrender.actors import Neuron  # import the Neuron actor class\n",
    "\n",
    "scene.add(Neuron(\"examples/data/neuron1.swc\"))\n",
    "\n",
    "'''\n",
    "Scene.add can be used to add actors to your scene. \n",
    "It accepts instances of the classes defined in brainrender.actors, \n",
    "mesh objects (e.g. loaded with vedo) or path to 3D objects file (e.g. .obj files)\n",
    "\n",
    "To see what actors are in a scene, use scene.content\n",
    "'''\n",
    "scene.content"
   ]
  },
  {
   "attachments": {},
   "cell_type": "markdown",
   "metadata": {},
   "source": [
    "### Rendering\n",
    "Rendering is as simple as `scene.render()`.\n",
    "This will create a pop-up window with the interactive 3D rendering of your scene. \n",
    "When you're done with it, press \"Esc\" to close the window!"
   ]
  },
  {
   "cell_type": "code",
   "execution_count": null,
   "metadata": {},
   "outputs": [],
   "source": [
    "scene.render()"
   ]
  },
  {
   "cell_type": "code",
   "execution_count": null,
   "metadata": {},
   "outputs": [],
   "source": []
  }
 ],
 "metadata": {
  "kernelspec": {
   "display_name": "Python 3",
   "language": "python",
   "name": "python3"
  },
  "language_info": {
   "codemirror_mode": {
    "name": "ipython",
    "version": 3
   },
   "file_extension": ".py",
   "mimetype": "text/x-python",
   "name": "python",
   "nbconvert_exporter": "python",
   "pygments_lexer": "ipython3",
   "version": "3.8.16"
  }
 },
 "nbformat": 4,
 "nbformat_minor": 2
}
