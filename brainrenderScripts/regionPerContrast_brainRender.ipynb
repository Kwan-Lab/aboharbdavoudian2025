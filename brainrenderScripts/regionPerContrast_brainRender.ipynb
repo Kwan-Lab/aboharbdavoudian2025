{
 "cells": [
  {
   "cell_type": "code",
   "execution_count": 1,
   "metadata": {},
   "outputs": [
    {
     "data": {
      "text/html": [
       "<pre style=\"white-space:pre;overflow-x:auto;line-height:normal;font-family:Menlo,'DejaVu Sans Mono',consolas,'Courier New',monospace\"><span style=\"color: #fb8c00; text-decoration-color: #fb8c00\">Cannot run function </span><span style=\"color: #ff7043; text-decoration-color: #ff7043; font-weight: bold\">_get_inset</span><span style=\"color: #fb8c00; text-decoration-color: #fb8c00\"> in a jupyter notebook</span> <span style=\"color: #fb8c00; text-decoration-color: #fb8c00\">Try setting the correct backend before creating your scene:</span>\n",
       "\n",
       "<span style=\"color: #f92672; text-decoration-color: #f92672; background-color: #272822\">from</span><span style=\"color: #f8f8f2; text-decoration-color: #f8f8f2; background-color: #272822\"> vedo </span><span style=\"color: #f92672; text-decoration-color: #f92672; background-color: #272822\">import</span><span style=\"color: #f8f8f2; text-decoration-color: #f8f8f2; background-color: #272822\"> embedWindow</span><span style=\"background-color: #272822\">                                                                                       </span>\n",
       "<span style=\"color: #f8f8f2; text-decoration-color: #f8f8f2; background-color: #272822\">embedWindow(</span><span style=\"color: #66d9ef; text-decoration-color: #66d9ef; background-color: #272822\">None</span><span style=\"color: #f8f8f2; text-decoration-color: #f8f8f2; background-color: #272822\">)</span><span style=\"background-color: #272822\">                                                                                                  </span>\n",
       "</pre>\n"
      ],
      "text/plain": [
       "\u001b[38;2;251;140;0mCannot run function \u001b[0m\u001b[1;38;2;255;112;67m_get_inset\u001b[0m\u001b[38;2;251;140;0m in a jupyter notebook\u001b[0m \u001b[38;2;251;140;0mTry setting the correct backend before creating your scene:\u001b[0m\n",
       "\n",
       "\u001b[38;2;249;38;114;48;2;39;40;34mfrom\u001b[0m\u001b[38;2;248;248;242;48;2;39;40;34m \u001b[0m\u001b[38;2;248;248;242;48;2;39;40;34mvedo\u001b[0m\u001b[38;2;248;248;242;48;2;39;40;34m \u001b[0m\u001b[38;2;249;38;114;48;2;39;40;34mimport\u001b[0m\u001b[38;2;248;248;242;48;2;39;40;34m \u001b[0m\u001b[38;2;248;248;242;48;2;39;40;34membedWindow\u001b[0m\u001b[48;2;39;40;34m                                                                                       \u001b[0m\n",
       "\u001b[38;2;248;248;242;48;2;39;40;34membedWindow\u001b[0m\u001b[38;2;248;248;242;48;2;39;40;34m(\u001b[0m\u001b[38;2;102;217;239;48;2;39;40;34mNone\u001b[0m\u001b[38;2;248;248;242;48;2;39;40;34m)\u001b[0m\u001b[48;2;39;40;34m                                                                                                  \u001b[0m\n"
      ]
     },
     "metadata": {},
     "output_type": "display_data"
    },
    {
     "data": {
      "text/html": [
       "<pre style=\"white-space:pre;overflow-x:auto;line-height:normal;font-family:Menlo,'DejaVu Sans Mono',consolas,'Courier New',monospace\"><span style=\"color: #26a69a; text-decoration-color: #26a69a\">Your scene is ready for rendering, use:</span>\n",
       "\n",
       "<span style=\"color: #f92672; text-decoration-color: #f92672; background-color: #272822\">from</span><span style=\"color: #f8f8f2; text-decoration-color: #f8f8f2; background-color: #272822\"> vedo </span><span style=\"color: #f92672; text-decoration-color: #f92672; background-color: #272822\">import</span><span style=\"color: #f8f8f2; text-decoration-color: #f8f8f2; background-color: #272822\"> show</span><span style=\"background-color: #272822\">                                                                                              </span>\n",
       "<span style=\"color: #f8f8f2; text-decoration-color: #f8f8f2; background-color: #272822\">vedo</span><span style=\"color: #f92672; text-decoration-color: #f92672; background-color: #272822\">.</span><span style=\"color: #f8f8f2; text-decoration-color: #f8f8f2; background-color: #272822\">show(</span><span style=\"color: #f92672; text-decoration-color: #f92672; background-color: #272822\">*</span><span style=\"color: #f8f8f2; text-decoration-color: #f8f8f2; background-color: #272822\">scene</span><span style=\"color: #f92672; text-decoration-color: #f92672; background-color: #272822\">.</span><span style=\"color: #f8f8f2; text-decoration-color: #f8f8f2; background-color: #272822\">renderables)</span><span style=\"background-color: #272822\">                                                                                      </span>\n",
       "</pre>\n"
      ],
      "text/plain": [
       "\u001b[38;2;38;166;154mYour scene is ready for rendering, use:\u001b[0m\n",
       "\n",
       "\u001b[38;2;249;38;114;48;2;39;40;34mfrom\u001b[0m\u001b[38;2;248;248;242;48;2;39;40;34m \u001b[0m\u001b[38;2;248;248;242;48;2;39;40;34mvedo\u001b[0m\u001b[38;2;248;248;242;48;2;39;40;34m \u001b[0m\u001b[38;2;249;38;114;48;2;39;40;34mimport\u001b[0m\u001b[38;2;248;248;242;48;2;39;40;34m \u001b[0m\u001b[38;2;248;248;242;48;2;39;40;34mshow\u001b[0m\u001b[48;2;39;40;34m                                                                                              \u001b[0m\n",
       "\u001b[38;2;248;248;242;48;2;39;40;34mvedo\u001b[0m\u001b[38;2;249;38;114;48;2;39;40;34m.\u001b[0m\u001b[38;2;248;248;242;48;2;39;40;34mshow\u001b[0m\u001b[38;2;248;248;242;48;2;39;40;34m(\u001b[0m\u001b[38;2;249;38;114;48;2;39;40;34m*\u001b[0m\u001b[38;2;248;248;242;48;2;39;40;34mscene\u001b[0m\u001b[38;2;249;38;114;48;2;39;40;34m.\u001b[0m\u001b[38;2;248;248;242;48;2;39;40;34mrenderables\u001b[0m\u001b[38;2;248;248;242;48;2;39;40;34m)\u001b[0m\u001b[48;2;39;40;34m                                                                                      \u001b[0m\n"
      ]
     },
     "metadata": {},
     "output_type": "display_data"
    },
    {
     "data": {
      "text/html": [
       "<pre style=\"white-space:pre;overflow-x:auto;line-height:normal;font-family:Menlo,'DejaVu Sans Mono',consolas,'Courier New',monospace\"><span style=\"color: #800080; text-decoration-color: #800080; font-weight: bold\">Plot</span><span style=\"font-weight: bold\">(</span><span style=\"color: #808000; text-decoration-color: #808000\">antialias</span>=<span style=\"color: #00ff00; text-decoration-color: #00ff00; font-style: italic\">True</span>, <span style=\"color: #808000; text-decoration-color: #808000\">axes</span>=<span style=\"font-weight: bold\">[</span><span style=\"color: #008000; text-decoration-color: #008000\">'x'</span>, <span style=\"color: #008000; text-decoration-color: #008000\">'y'</span>, <span style=\"color: #008000; text-decoration-color: #008000\">'z'</span><span style=\"font-weight: bold\">]</span>, <span style=\"color: #808000; text-decoration-color: #808000\">axes_helper</span>=<span style=\"color: #008080; text-decoration-color: #008080; font-weight: bold\">1.0</span>, <span style=\"color: #808000; text-decoration-color: #808000\">background_color</span>=<span style=\"color: #008080; text-decoration-color: #008080; font-weight: bold\">16777215</span>, <span style=\"color: #808000; text-decoration-color: #808000\">camera</span>=<span style=\"font-weight: bold\">[</span><span style=\"color: #008080; text-decoration-color: #008080; font-weight: bold\">2</span>, <span style=\"color: #008080; text-decoration-color: #008080; font-weight: bold\">-3</span>, <span style=\"color: #008080; text-decoration-color: #008080; font-weight: bold\">0.2</span>, <span style=\"color: #008080; text-decoration-color: #008080; font-weight: bold\">0.0</span>, \n",
       "<span style=\"color: #008080; text-decoration-color: #008080; font-weight: bold\">0.0</span>, <span style=\"color: #008080; text-decoration-color: #008080; font-weight: bold\">0.0</span>, <span style=\"color: #008080; text-decoration-color: #008080; font-weight: bold\">0.0</span>, <span style=\"color: #008080; text-decoration-color: #008080; font-weight: bold\">0.0</span>, <span style=\"color: #008080; text-decoration-color: #008080; font-weight: bold\">1.0</span><span style=\"font-weight: bold\">]</span>, <span style=\"color: #808000; text-decoration-color: #808000\">camera_animation</span>=<span style=\"font-weight: bold\">[]</span>, <span style=\"color: #808000; text-decoration-color: #808000\">camera_fov</span>=<span style=\"color: #008080; text-decoration-color: #008080; font-weight: bold\">60.0</span>, <span style=\"color: #808000; text-decoration-color: #808000\">fps</span>=<span style=\"color: #008080; text-decoration-color: #008080; font-weight: bold\">25.0</span>, <span style=\"color: #808000; text-decoration-color: #808000\">fps_meter</span>=<span style=\"color: #ff0000; text-decoration-color: #ff0000; font-style: italic\">False</span>, <span style=\"color: #808000; text-decoration-color: #808000\">grid</span>=<span style=\"font-weight: bold\">[</span><span style=\"color: #008080; text-decoration-color: #008080; font-weight: bold\">-1</span>, <span style=\"color: #008080; text-decoration-color: #008080; font-weight: bold\">-1</span>, <span style=\"color: #008080; text-decoration-color: #008080; font-weight: bold\">-1</span>, <span style=\"color: #008080; text-decoration-color: #008080; font-weight: bold\">1</span>, <span style=\"color: #008080; text-decoration-color: #008080; font-weight: bold\">1</span>, \n",
       "<span style=\"color: #008080; text-decoration-color: #008080; font-weight: bold\">1</span><span style=\"font-weight: bold\">]</span>, <span style=\"color: #808000; text-decoration-color: #808000\">grid_visible</span>=<span style=\"color: #ff0000; text-decoration-color: #ff0000; font-style: italic\">False</span>, <span style=\"color: #808000; text-decoration-color: #808000\">height</span>=<span style=\"color: #008080; text-decoration-color: #008080; font-weight: bold\">512</span>, <span style=\"color: #808000; text-decoration-color: #808000\">lighting</span>=<span style=\"color: #008080; text-decoration-color: #008080; font-weight: bold\">1.2</span>, <span style=\"color: #808000; text-decoration-color: #808000\">mode</span>=<span style=\"color: #008000; text-decoration-color: #008000\">'view'</span>, <span style=\"color: #808000; text-decoration-color: #808000\">object_ids</span>=<span style=\"font-weight: bold\">[</span><span style=\"color: #008080; text-decoration-color: #008080; font-weight: bold\">2390522183888</span>, <span style=\"color: #008080; text-decoration-color: #008080; font-weight: bold\">2391690734512</span>, \n",
       "<span style=\"color: #008080; text-decoration-color: #008080; font-weight: bold\">2391690734752</span>, <span style=\"color: #008080; text-decoration-color: #008080; font-weight: bold\">2390523184320</span>, <span style=\"color: #008080; text-decoration-color: #008080; font-weight: bold\">2391690735088</span>, <span style=\"color: #008080; text-decoration-color: #008080; font-weight: bold\">2391690735472</span>, <span style=\"color: #008080; text-decoration-color: #008080; font-weight: bold\">2391690734896</span>, <span style=\"color: #008080; text-decoration-color: #008080; font-weight: bold\">2390521083600</span><span style=\"font-weight: bold\">]</span>, <span style=\"color: #808000; text-decoration-color: #808000\">screenshot_scale</span>=<span style=\"color: #008080; text-decoration-color: #008080; font-weight: bold\">2.0</span><span style=\"font-weight: bold\">)</span>\n",
       "</pre>\n"
      ],
      "text/plain": [
       "\u001b[1;35mPlot\u001b[0m\u001b[1m(\u001b[0m\u001b[33mantialias\u001b[0m=\u001b[3;92mTrue\u001b[0m, \u001b[33maxes\u001b[0m=\u001b[1m[\u001b[0m\u001b[32m'x'\u001b[0m, \u001b[32m'y'\u001b[0m, \u001b[32m'z'\u001b[0m\u001b[1m]\u001b[0m, \u001b[33maxes_helper\u001b[0m=\u001b[1;36m1\u001b[0m\u001b[1;36m.0\u001b[0m, \u001b[33mbackground_color\u001b[0m=\u001b[1;36m16777215\u001b[0m, \u001b[33mcamera\u001b[0m=\u001b[1m[\u001b[0m\u001b[1;36m2\u001b[0m, \u001b[1;36m-3\u001b[0m, \u001b[1;36m0.2\u001b[0m, \u001b[1;36m0.0\u001b[0m, \n",
       "\u001b[1;36m0.0\u001b[0m, \u001b[1;36m0.0\u001b[0m, \u001b[1;36m0.0\u001b[0m, \u001b[1;36m0.0\u001b[0m, \u001b[1;36m1.0\u001b[0m\u001b[1m]\u001b[0m, \u001b[33mcamera_animation\u001b[0m=\u001b[1m[\u001b[0m\u001b[1m]\u001b[0m, \u001b[33mcamera_fov\u001b[0m=\u001b[1;36m60\u001b[0m\u001b[1;36m.0\u001b[0m, \u001b[33mfps\u001b[0m=\u001b[1;36m25\u001b[0m\u001b[1;36m.0\u001b[0m, \u001b[33mfps_meter\u001b[0m=\u001b[3;91mFalse\u001b[0m, \u001b[33mgrid\u001b[0m=\u001b[1m[\u001b[0m\u001b[1;36m-1\u001b[0m, \u001b[1;36m-1\u001b[0m, \u001b[1;36m-1\u001b[0m, \u001b[1;36m1\u001b[0m, \u001b[1;36m1\u001b[0m, \n",
       "\u001b[1;36m1\u001b[0m\u001b[1m]\u001b[0m, \u001b[33mgrid_visible\u001b[0m=\u001b[3;91mFalse\u001b[0m, \u001b[33mheight\u001b[0m=\u001b[1;36m512\u001b[0m, \u001b[33mlighting\u001b[0m=\u001b[1;36m1\u001b[0m\u001b[1;36m.2\u001b[0m, \u001b[33mmode\u001b[0m=\u001b[32m'view'\u001b[0m, \u001b[33mobject_ids\u001b[0m=\u001b[1m[\u001b[0m\u001b[1;36m2390522183888\u001b[0m, \u001b[1;36m2391690734512\u001b[0m, \n",
       "\u001b[1;36m2391690734752\u001b[0m, \u001b[1;36m2390523184320\u001b[0m, \u001b[1;36m2391690735088\u001b[0m, \u001b[1;36m2391690735472\u001b[0m, \u001b[1;36m2391690734896\u001b[0m, \u001b[1;36m2390521083600\u001b[0m\u001b[1m]\u001b[0m, \u001b[33mscreenshot_scale\u001b[0m=\u001b[1;36m2\u001b[0m\u001b[1;36m.0\u001b[0m\u001b[1m)\u001b[0m\n"
      ]
     },
     "metadata": {},
     "output_type": "display_data"
    }
   ],
   "source": [
    "# Define path to text file with list of what needs to be drawn. \n",
    "from brainrender import Scene\n",
    "from vedo import embedWindow, Plotter, show  # <- this will be used to render an embedded scene \n",
    "from itkwidgets import view\n",
    "import numpy as np\n",
    "\n",
    "embedWindow('k3d')  # <- this will make your scene embed with k3d\n",
    "\n",
    "# Create a scene\n",
    "scene = Scene(title='Embedded')  # note that the title will not actually display\n",
    "# Make sure it gets embedded in the window\n",
    "scene.jupyter = True\n",
    "\n",
    "testList = {'ACAd', 'ACAv', 'AM', 'AV', 'CA3', 'CL', 'LD'}\n",
    "alpha = [2, 1, 0.4, 0.6, 0.7, 0.6, 0.6]\n",
    "alpha = np.array(alpha)\n",
    "alpha = alpha/2\n",
    "\n",
    "for region, alph in zip(testList, alpha):\n",
    "    scene.add_brain_region(region, alpha=alph)\n",
    "\n",
    "# scene.render now will prepare the scene for rendering, but it won't render anything yet\n",
    "scene.render()\n",
    "\n",
    "#  to actually display the scene we use `vedo`'s `show` method to show the scene's actors\n",
    "plt = Plotter()\n",
    "plt.show(*scene.renderables)  # same as vedo.show(*scene.renderables)"
   ]
  }
 ],
 "metadata": {
  "kernelspec": {
   "display_name": "brainrender",
   "language": "python",
   "name": "python3"
  },
  "language_info": {
   "codemirror_mode": {
    "name": "ipython",
    "version": 3
   },
   "file_extension": ".py",
   "mimetype": "text/x-python",
   "name": "python",
   "nbconvert_exporter": "python",
   "pygments_lexer": "ipython3",
   "version": "3.8.16"
  },
  "orig_nbformat": 4
 },
 "nbformat": 4,
 "nbformat_minor": 2
}
