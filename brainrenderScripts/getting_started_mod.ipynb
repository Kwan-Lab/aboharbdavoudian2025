{
 "cells": [
  {
   "attachments": {},
   "cell_type": "markdown",
   "metadata": {},
   "source": [
    "## Getting started with brainrender\n",
    "This notebooks shows how to get started using brainrender.\n",
    "It assumes that you have already installed, if not please install it now:\n",
    "```\n",
    "pip install brainrneder\n",
    "```\n",
    "\n",
    "For more details about how to install brainrender, [please check the docs](https://docs.brainrender.info/installation/installation)\n",
    "\n",
    "### Content of this example\n",
    "This notebook shows how to:\n",
    "* Create a `Scene` in brainrender\n",
    "* add `brain regions` to your scene\n",
    "* add a `neuronal morphology` to your scene\n",
    "\n",
    "You can check the [examples](https://github.com/brainglobe/brainrender/tree/master/examples) and the [documentation](https://docs.brainrender.info/) to learn more about how to use brainrender.\n",
    "\n",
    "In particular, if you are planning to use brainrender in a Jupyter Notebook, please read the [docs](https://docs.brainrender.info/usage/using-notebooks) about using brainrender in a notebook, and have a look at the [notebooks workflow example](https://github.com/brainglobe/brainrender/blob/master/examples/notebook_workflow.ipynb)"
   ]
  },
  {
   "cell_type": "code",
   "execution_count": 1,
   "metadata": {},
   "outputs": [],
   "source": [
    "from vedo import embedWindow, show  # for more explanations about these two lines checks the notebooks workflow example\n",
    "embedWindow(None)"
   ]
  },
  {
   "attachments": {},
   "cell_type": "markdown",
   "metadata": {},
   "source": [
    "### Creating a scene and adding brain regions"
   ]
  },
  {
   "cell_type": "code",
   "execution_count": 2,
   "metadata": {},
   "outputs": [
    {
     "ename": "AttributeError",
     "evalue": "module 'numpy' has no attribute 'float'.\n`np.float` was a deprecated alias for the builtin `float`. To avoid this error in existing code, use `float` by itself. Doing this will not modify any behavior and is safe. If you specifically wanted the numpy scalar type, use `np.float64` here.\nThe aliases was originally deprecated in NumPy 1.20; for more details and guidance see the original release note at:\n    https://numpy.org/devdocs/release/1.20.0-notes.html#deprecations",
     "output_type": "error",
     "traceback": [
      "\u001b[1;31m---------------------------------------------------------------------------\u001b[0m",
      "\u001b[1;31mAttributeError\u001b[0m                            Traceback (most recent call last)",
      "Cell \u001b[1;32mIn[2], line 8\u001b[0m\n\u001b[0;32m      6\u001b[0m \u001b[39m# Adding brain regions\u001b[39;00m\n\u001b[0;32m      7\u001b[0m scene\u001b[39m.\u001b[39madd_brain_region(\u001b[39m'\u001b[39m\u001b[39mVPM\u001b[39m\u001b[39m'\u001b[39m, \u001b[39m'\u001b[39m\u001b[39mTH\u001b[39m\u001b[39m'\u001b[39m, alpha\u001b[39m=\u001b[39m\u001b[39m.5\u001b[39m)\n\u001b[1;32m----> 8\u001b[0m scene\u001b[39m.\u001b[39;49mrender()\n",
      "File \u001b[1;32mc:\\Users\\aboha\\.conda\\envs\\brainrender\\lib\\site-packages\\brainrender\\render.py:252\u001b[0m, in \u001b[0;36mRender.render\u001b[1;34m(self, interactive, camera, zoom, update_camera, **kwargs)\u001b[0m\n\u001b[0;32m    249\u001b[0m     \u001b[39mif\u001b[39;00m interactive \u001b[39mis\u001b[39;00m \u001b[39mNone\u001b[39;00m:\n\u001b[0;32m    250\u001b[0m         interactive \u001b[39m=\u001b[39m settings\u001b[39m.\u001b[39mINTERACTIVE\n\u001b[1;32m--> 252\u001b[0m     \u001b[39mself\u001b[39;49m\u001b[39m.\u001b[39;49mplotter\u001b[39m.\u001b[39;49mshow(\n\u001b[0;32m    253\u001b[0m         interactive\u001b[39m=\u001b[39;49minteractive,\n\u001b[0;32m    254\u001b[0m         zoom\u001b[39m=\u001b[39;49mzoom,\n\u001b[0;32m    255\u001b[0m         bg\u001b[39m=\u001b[39;49msettings\u001b[39m.\u001b[39;49mBACKGROUND_COLOR,\n\u001b[0;32m    256\u001b[0m         camera\u001b[39m=\u001b[39;49mcamera\u001b[39m.\u001b[39;49mcopy() \u001b[39mif\u001b[39;49;00m update_camera \u001b[39melse\u001b[39;49;00m \u001b[39mNone\u001b[39;49;00m,\n\u001b[0;32m    257\u001b[0m         interactorStyle\u001b[39m=\u001b[39;49m\u001b[39m0\u001b[39;49m,\n\u001b[0;32m    258\u001b[0m         rate\u001b[39m=\u001b[39;49m\u001b[39m40\u001b[39;49m,\n\u001b[0;32m    259\u001b[0m     )\n\u001b[0;32m    260\u001b[0m \u001b[39melif\u001b[39;00m \u001b[39mself\u001b[39m\u001b[39m.\u001b[39mbackend \u001b[39m==\u001b[39m \u001b[39m\"\u001b[39m\u001b[39mk3d\u001b[39m\u001b[39m\"\u001b[39m:  \u001b[39m# pragma: no cover\u001b[39;00m\n\u001b[0;32m    261\u001b[0m     \u001b[39m# Remove silhouettes\u001b[39;00m\n\u001b[0;32m    262\u001b[0m     \u001b[39mself\u001b[39m\u001b[39m.\u001b[39mremove(\u001b[39m*\u001b[39m\u001b[39mself\u001b[39m\u001b[39m.\u001b[39mget_actors(br_class\u001b[39m=\u001b[39m\u001b[39m\"\u001b[39m\u001b[39msilhouette\u001b[39m\u001b[39m\"\u001b[39m))\n",
      "File \u001b[1;32mc:\\Users\\aboha\\.conda\\envs\\brainrender\\lib\\site-packages\\vedo\\plotter.py:2274\u001b[0m, in \u001b[0;36mPlotter.show\u001b[1;34m(self, at, axes, resetcam, zoom, interactive, viewup, azimuth, elevation, roll, camera, interactorStyle, mode, rate, bg, bg2, size, title, q, *actors)\u001b[0m\n\u001b[0;32m   2272\u001b[0m \u001b[39mif\u001b[39;00m \u001b[39mself\u001b[39m\u001b[39m.\u001b[39maxes \u001b[39mis\u001b[39;00m \u001b[39mnot\u001b[39;00m \u001b[39mNone\u001b[39;00m:\n\u001b[0;32m   2273\u001b[0m     \u001b[39mif\u001b[39;00m viewup \u001b[39m!=\u001b[39m \u001b[39m\"\u001b[39m\u001b[39m2d\u001b[39m\u001b[39m\"\u001b[39m \u001b[39mor\u001b[39;00m \u001b[39mself\u001b[39m\u001b[39m.\u001b[39maxes \u001b[39min\u001b[39;00m [\u001b[39m1\u001b[39m, \u001b[39m8\u001b[39m] \u001b[39mor\u001b[39;00m \u001b[39misinstance\u001b[39m(\u001b[39mself\u001b[39m\u001b[39m.\u001b[39maxes, \u001b[39mdict\u001b[39m):\n\u001b[1;32m-> 2274\u001b[0m         addons\u001b[39m.\u001b[39;49maddGlobalAxes(\u001b[39mself\u001b[39;49m\u001b[39m.\u001b[39;49maxes)\n\u001b[0;32m   2276\u001b[0m \u001b[39m# panel #################################################################\u001b[39;00m\n\u001b[0;32m   2277\u001b[0m \u001b[39mif\u001b[39;00m settings\u001b[39m.\u001b[39mnotebookBackend \u001b[39min\u001b[39;00m [\u001b[39m\"\u001b[39m\u001b[39mpanel\u001b[39m\u001b[39m\"\u001b[39m,\u001b[39m\"\u001b[39m\u001b[39mipyvtk\u001b[39m\u001b[39m\"\u001b[39m]:\n",
      "File \u001b[1;32mc:\\Users\\aboha\\.conda\\envs\\brainrender\\lib\\site-packages\\vedo\\addons.py:2773\u001b[0m, in \u001b[0;36maddGlobalAxes\u001b[1;34m(axtype, c)\u001b[0m\n\u001b[0;32m   2771\u001b[0m \u001b[39mif\u001b[39;00m \u001b[39misinstance\u001b[39m(plt\u001b[39m.\u001b[39maxes, \u001b[39mdict\u001b[39m):\n\u001b[0;32m   2772\u001b[0m     plt\u001b[39m.\u001b[39maxes\u001b[39m.\u001b[39mupdate({\u001b[39m'\u001b[39m\u001b[39museGlobal\u001b[39m\u001b[39m'\u001b[39m:\u001b[39mTrue\u001b[39;00m})\n\u001b[1;32m-> 2773\u001b[0m     asse \u001b[39m=\u001b[39m Axes(\u001b[39mNone\u001b[39;49;00m, \u001b[39m*\u001b[39;49m\u001b[39m*\u001b[39;49mplt\u001b[39m.\u001b[39;49maxes)\n\u001b[0;32m   2774\u001b[0m \u001b[39melse\u001b[39;00m:\n\u001b[0;32m   2775\u001b[0m     asse \u001b[39m=\u001b[39m Axes(\u001b[39mNone\u001b[39;00m, useGlobal\u001b[39m=\u001b[39m\u001b[39mTrue\u001b[39;00m)\n",
      "File \u001b[1;32mc:\\Users\\aboha\\.conda\\envs\\brainrender\\lib\\site-packages\\vedo\\addons.py:2179\u001b[0m, in \u001b[0;36mAxes\u001b[1;34m(obj, xtitle, ytitle, ztitle, xrange, yrange, zrange, c, numberOfDivisions, digits, limitRatio, axesLineWidth, gridLineWidth, htitle, hTitleSize, hTitleFont, hTitleItalic, hTitleColor, hTitleJustify, hTitleRotation, hTitleOffset, titleDepth, titleFont, textScale, xTitlePosition, yTitlePosition, zTitlePosition, xTitleOffset, yTitleOffset, zTitleOffset, xTitleJustify, yTitleJustify, zTitleJustify, xTitleRotation, yTitleRotation, zTitleRotation, xTitleBox, yTitleBox, xTitleSize, yTitleSize, zTitleSize, xTitleColor, yTitleColor, zTitleColor, xTitleBackfaceColor, yTitleBackfaceColor, zTitleBackfaceColor, xTitleItalic, yTitleItalic, zTitleItalic, xyGrid, yzGrid, zxGrid, xyGrid2, yzGrid2, zxGrid2, xyGridTransparent, yzGridTransparent, zxGridTransparent, xyGrid2Transparent, yzGrid2Transparent, zxGrid2Transparent, xyPlaneColor, yzPlaneColor, zxPlaneColor, xyGridColor, yzGridColor, zxGridColor, xyAlpha, yzAlpha, zxAlpha, xyFrameLine, yzFrameLine, zxFrameLine, xyFrameColor, yzFrameColor, zxFrameColor, xLineColor, yLineColor, zLineColor, xHighlightZero, yHighlightZero, zHighlightZero, xHighlightZeroColor, yHighlightZeroColor, zHighlightZeroColor, showTicks, xTickLength, yTickLength, zTickLength, xTickThickness, yTickThickness, zTickThickness, xMinorTicks, yMinorTicks, zMinorTicks, tipSize, labelFont, xLabelColor, yLabelColor, zLabelColor, xLabelSize, yLabelSize, zLabelSize, xLabelOffset, yLabelOffset, zLabelOffset, xLabelJustify, yLabelJustify, zLabelJustify, xLabelRotation, yLabelRotation, zLabelRotation, xAxisRotation, yAxisRotation, zAxisRotation, xValuesAndLabels, yValuesAndLabels, zValuesAndLabels, xyShift, yzShift, zxShift, xShiftAlongY, xShiftAlongZ, yShiftAlongX, yShiftAlongZ, zShiftAlongX, zShiftAlongY, xUseBounds, yUseBounds, zUseBounds, xInverted, yInverted, zInverted, useGlobal, tol)\u001b[0m\n\u001b[0;32m   2177\u001b[0m     v1 \u001b[39m=\u001b[39m (xticks_float[i]\u001b[39m-\u001b[39mtickThickness, \u001b[39m-\u001b[39mtickLength, \u001b[39m0\u001b[39m)\n\u001b[0;32m   2178\u001b[0m     v2 \u001b[39m=\u001b[39m (xticks_float[i]\u001b[39m+\u001b[39mtickThickness,  tickLength, \u001b[39m0\u001b[39m)\n\u001b[1;32m-> 2179\u001b[0m     xticks\u001b[39m.\u001b[39mappend(shapes\u001b[39m.\u001b[39;49mRectangle(v1, v2))\n\u001b[0;32m   2180\u001b[0m \u001b[39mif\u001b[39;00m \u001b[39mlen\u001b[39m(xticks)\u001b[39m>\u001b[39m\u001b[39m1\u001b[39m:\n\u001b[0;32m   2181\u001b[0m     xmajticks \u001b[39m=\u001b[39m merge(xticks)\u001b[39m.\u001b[39mc(xLabelColor)\n",
      "File \u001b[1;32mc:\\Users\\aboha\\.conda\\envs\\brainrender\\lib\\site-packages\\vedo\\shapes.py:2305\u001b[0m, in \u001b[0;36mRectangle\u001b[1;34m(p1, p2, c, alpha)\u001b[0m\n\u001b[0;32m   2303\u001b[0m pts \u001b[39m=\u001b[39m ([\u001b[39m0\u001b[39m,\u001b[39m0\u001b[39m,\u001b[39m0\u001b[39m], p1r\u001b[39m-\u001b[39mp1 , p2\u001b[39m-\u001b[39mp1, p2l\u001b[39m-\u001b[39mp1)\n\u001b[0;32m   2304\u001b[0m faces \u001b[39m=\u001b[39m [(\u001b[39m0\u001b[39m,\u001b[39m1\u001b[39m,\u001b[39m2\u001b[39m,\u001b[39m3\u001b[39m)]\n\u001b[1;32m-> 2305\u001b[0m mesh \u001b[39m=\u001b[39m Mesh([pts, faces], c, alpha)\n\u001b[0;32m   2306\u001b[0m mesh\u001b[39m.\u001b[39mSetPosition(p1)\n\u001b[0;32m   2307\u001b[0m mesh\u001b[39m.\u001b[39mname \u001b[39m=\u001b[39m \u001b[39m\"\u001b[39m\u001b[39mRectangle\u001b[39m\u001b[39m\"\u001b[39m\n",
      "File \u001b[1;32mc:\\Users\\aboha\\.conda\\envs\\brainrender\\lib\\site-packages\\vedo\\mesh.py:162\u001b[0m, in \u001b[0;36mMesh.__init__\u001b[1;34m(self, inputobj, c, alpha, computeNormals)\u001b[0m\n\u001b[0;32m    160\u001b[0m     \u001b[39mself\u001b[39m\u001b[39m.\u001b[39m_data \u001b[39m=\u001b[39m vtk\u001b[39m.\u001b[39mvtkPolyData()\n\u001b[0;32m    161\u001b[0m \u001b[39melif\u001b[39;00m ninp \u001b[39m==\u001b[39m \u001b[39m2\u001b[39m:  \u001b[39m# assume [vertices, faces]\u001b[39;00m\n\u001b[1;32m--> 162\u001b[0m     \u001b[39mself\u001b[39m\u001b[39m.\u001b[39m_data \u001b[39m=\u001b[39m buildPolyData(inputobj[\u001b[39m0\u001b[39;49m], inputobj[\u001b[39m1\u001b[39;49m])\n\u001b[0;32m    163\u001b[0m \u001b[39melse\u001b[39;00m:            \u001b[39m# assume [vertices] or vertices\u001b[39;00m\n\u001b[0;32m    164\u001b[0m     \u001b[39mself\u001b[39m\u001b[39m.\u001b[39m_data \u001b[39m=\u001b[39m buildPolyData(inputobj, \u001b[39mNone\u001b[39;00m)\n",
      "File \u001b[1;32mc:\\Users\\aboha\\.conda\\envs\\brainrender\\lib\\site-packages\\vedo\\utils.py:338\u001b[0m, in \u001b[0;36mbuildPolyData\u001b[1;34m(vertices, faces, lines, indexOffset, fast, tetras)\u001b[0m\n\u001b[0;32m    336\u001b[0m sourcePoints \u001b[39m=\u001b[39m vtk\u001b[39m.\u001b[39mvtkPoints()\n\u001b[0;32m    337\u001b[0m \u001b[39m# sourcePoints.SetData(numpy_to_vtk(np.ascontiguousarray(vertices), deep=True))\u001b[39;00m\n\u001b[1;32m--> 338\u001b[0m sourcePoints\u001b[39m.\u001b[39mSetData(numpy2vtk(vertices, dtype\u001b[39m=\u001b[39mnp\u001b[39m.\u001b[39;49mfloat))\n\u001b[0;32m    339\u001b[0m poly\u001b[39m.\u001b[39mSetPoints(sourcePoints)\n\u001b[0;32m    341\u001b[0m \u001b[39mif\u001b[39;00m lines \u001b[39mis\u001b[39;00m \u001b[39mnot\u001b[39;00m \u001b[39mNone\u001b[39;00m:\n\u001b[0;32m    342\u001b[0m     \u001b[39m# Create a cell array to store the lines in and add the lines to it\u001b[39;00m\n",
      "File \u001b[1;32mc:\\Users\\aboha\\.conda\\envs\\brainrender\\lib\\site-packages\\numpy\\__init__.py:305\u001b[0m, in \u001b[0;36m__getattr__\u001b[1;34m(attr)\u001b[0m\n\u001b[0;32m    300\u001b[0m     warnings\u001b[39m.\u001b[39mwarn(\n\u001b[0;32m    301\u001b[0m         \u001b[39mf\u001b[39m\u001b[39m\"\u001b[39m\u001b[39mIn the future `np.\u001b[39m\u001b[39m{\u001b[39;00mattr\u001b[39m}\u001b[39;00m\u001b[39m` will be defined as the \u001b[39m\u001b[39m\"\u001b[39m\n\u001b[0;32m    302\u001b[0m         \u001b[39m\"\u001b[39m\u001b[39mcorresponding NumPy scalar.\u001b[39m\u001b[39m\"\u001b[39m, \u001b[39mFutureWarning\u001b[39;00m, stacklevel\u001b[39m=\u001b[39m\u001b[39m2\u001b[39m)\n\u001b[0;32m    304\u001b[0m \u001b[39mif\u001b[39;00m attr \u001b[39min\u001b[39;00m __former_attrs__:\n\u001b[1;32m--> 305\u001b[0m     \u001b[39mraise\u001b[39;00m \u001b[39mAttributeError\u001b[39;00m(__former_attrs__[attr])\n\u001b[0;32m    307\u001b[0m \u001b[39m# Importing Tester requires importing all of UnitTest which is not a\u001b[39;00m\n\u001b[0;32m    308\u001b[0m \u001b[39m# cheap import Since it is mainly used in test suits, we lazy import it\u001b[39;00m\n\u001b[0;32m    309\u001b[0m \u001b[39m# here to save on the order of 10 ms of import time for most users\u001b[39;00m\n\u001b[0;32m    310\u001b[0m \u001b[39m#\u001b[39;00m\n\u001b[0;32m    311\u001b[0m \u001b[39m# The previous way Tester was imported also had a side effect of adding\u001b[39;00m\n\u001b[0;32m    312\u001b[0m \u001b[39m# the full `numpy.testing` namespace\u001b[39;00m\n\u001b[0;32m    313\u001b[0m \u001b[39mif\u001b[39;00m attr \u001b[39m==\u001b[39m \u001b[39m'\u001b[39m\u001b[39mtesting\u001b[39m\u001b[39m'\u001b[39m:\n",
      "\u001b[1;31mAttributeError\u001b[0m: module 'numpy' has no attribute 'float'.\n`np.float` was a deprecated alias for the builtin `float`. To avoid this error in existing code, use `float` by itself. Doing this will not modify any behavior and is safe. If you specifically wanted the numpy scalar type, use `np.float64` here.\nThe aliases was originally deprecated in NumPy 1.20; for more details and guidance see the original release note at:\n    https://numpy.org/devdocs/release/1.20.0-notes.html#deprecations"
     ]
    }
   ],
   "source": [
    "# Import Scene\n",
    "from brainrender import Scene  # Scene handles the creation of your rendering!\n",
    "\n",
    "scene = Scene(title='My first rendering')  # create an instance of scene\n",
    "\n",
    "# Adding brain regions\n",
    "scene.add_brain_region('VPM', 'TH', alpha=.5)\n",
    "scene.render()"
   ]
  },
  {
   "attachments": {},
   "cell_type": "markdown",
   "metadata": {},
   "source": [
    "### Adding a neuronal morphology\n",
    "Brainrender can load neuronal morphologies from .swc files"
   ]
  },
  {
   "cell_type": "code",
   "execution_count": null,
   "metadata": {
    "scrolled": true
   },
   "outputs": [],
   "source": [
    "from brainrender.actors import Neuron  # import the Neuron actor class\n",
    "\n",
    "scene.add(Neuron(\"examples/data/neuron1.swc\"))\n",
    "\n",
    "'''\n",
    "Scene.add can be used to add actors to your scene. \n",
    "It accepts instances of the classes defined in brainrender.actors, \n",
    "mesh objects (e.g. loaded with vedo) or path to 3D objects file (e.g. .obj files)\n",
    "\n",
    "To see what actors are in a scene, use scene.content\n",
    "'''\n",
    "scene.content"
   ]
  },
  {
   "attachments": {},
   "cell_type": "markdown",
   "metadata": {},
   "source": [
    "### Rendering\n",
    "Rendering is as simple as `scene.render()`.\n",
    "This will create a pop-up window with the interactive 3D rendering of your scene. \n",
    "When you're done with it, press \"Esc\" to close the window!"
   ]
  },
  {
   "cell_type": "code",
   "execution_count": null,
   "metadata": {},
   "outputs": [],
   "source": [
    "scene.render()"
   ]
  },
  {
   "cell_type": "code",
   "execution_count": null,
   "metadata": {},
   "outputs": [],
   "source": []
  }
 ],
 "metadata": {
  "kernelspec": {
   "display_name": "Python 3",
   "language": "python",
   "name": "python3"
  },
  "language_info": {
   "codemirror_mode": {
    "name": "ipython",
    "version": 3
   },
   "file_extension": ".py",
   "mimetype": "text/x-python",
   "name": "python",
   "nbconvert_exporter": "python",
   "pygments_lexer": "ipython3",
   "version": "3.8.16"
  }
 },
 "nbformat": 4,
 "nbformat_minor": 2
}
