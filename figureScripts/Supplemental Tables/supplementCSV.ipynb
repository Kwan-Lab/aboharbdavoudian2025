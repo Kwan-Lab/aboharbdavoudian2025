{
 "cells": [
  {
   "cell_type": "markdown",
   "metadata": {},
   "source": [
    "# Supplement 1 - Abbreviation table"
   ]
  },
  {
   "cell_type": "code",
   "execution_count": 14,
   "metadata": {},
   "outputs": [
    {
     "name": "stderr",
     "output_type": "stream",
     "text": [
      "c:\\Users\\aboha\\anaconda3\\envs\\cFosProject\\lib\\site-packages\\openpyxl\\worksheet\\_read_only.py:79: UserWarning: Unknown extension is not supported and will be removed\n",
      "  for idx, row in parser.parse():\n"
     ]
    }
   ],
   "source": [
    "import pandas as pd\n",
    "import sys\n",
    "import numpy as np\n",
    "import matplotlib.pyplot as plt\n",
    "\n",
    "sys.path.append('../../functionScripts/')\n",
    "sys.path.append('../../Atlas/')\n",
    "\n",
    "import helperFunctions as hf\n",
    "\n",
    "# Variables\n",
    "dataFeature = 'abbreviation'\n",
    "\n",
    "# Load files\n",
    "lightsheet_data = pd.read_pickle('..//..//Temp//lightsheet_all.pkl') \n",
    "aba_ccf = pd.read_excel('../../Atlas/ABA_CCF.xlsx')\n",
    "\n",
    "# extract abbreviation and structure ID from aba_cff\n",
    "aba_ccf = aba_ccf[['structure ID', 'abbreviation']]\n",
    "regionArea = hf.create_region_to_area_dict(lightsheet_data, dataFeature).reset_index(drop=True)\n",
    "\n",
    "# merge aba_ccf into regionArea using abbreviation, Drop regions with NaN for Brain_Area\n",
    "regionArea_aba = regionArea.merge(aba_ccf, on='abbreviation', how='outer').dropna(subset=['Brain_Area'])\n",
    "\n",
    "lightsheet_data_orig = lightsheet_data.copy()\n",
    "lightsheet_data_orig = lightsheet_data.groupby(['dataset', 'sex'])['count_norm'].sum()\n",
    "\n",
    "# Generate tables for merging\n",
    "lsData = lightsheet_data[['abbreviation', 'Region_Name', 'volume_(mm^3)']]\n",
    "regionArea2 = regionArea_aba.merge(lsData, on=dataFeature, how='outer').drop_duplicates(subset=['abbreviation'])\n",
    "\n",
    "# Rename the structure ID column to region_ID\n",
    "regionArea2.rename(columns={'structure ID': 'region ID'}, inplace=True)\n",
    "regionArea2.rename(columns={'Region_Name': 'region name'}, inplace=True)\n",
    "regionArea2.rename(columns={'Brain_Area': 'brain area'}, inplace=True)\n",
    "regionArea2.rename(columns={'volume_(mm^3)': 'volume (mm^3)'}, inplace=True)\n",
    "\n",
    "# Resort the columns, drop the extra\n",
    "regionAreaCSV = regionArea2[['region name', 'volume (mm^3)', 'region ID', 'abbreviation', 'brain area']].reset_index(drop=True)\n",
    "\n",
    "# Round the volume column to 4 decimal places\n",
    "regionAreaCSV['volume (mm^3)'] = regionAreaCSV['volume (mm^3)'].round(4)\n",
    "\n",
    "# Optional editting\n",
    "# regionAreaCSV.columns = regionAreaCSV.columns.str.replace('_', ' ')\n",
    "# regionAreaCSV.columns = [x.title() for x in regionAreaCSV.columns]\n",
    "\n",
    "# Save to a csv file\n",
    "regionAreaCSV.to_csv('suppRegionTable.csv', index=False)"
   ]
  },
  {
   "cell_type": "markdown",
   "metadata": {},
   "source": [
    "# Supplementary Table 2 "
   ]
  },
  {
   "cell_type": "code",
   "execution_count": 15,
   "metadata": {},
   "outputs": [],
   "source": [
    "# Create a table with the columns abbreviation, Region_Name, and the mean across each of the drugs in the dataset\n",
    "\n",
    "# Get the columns that are not the abbreviation or the region name\n",
    "cols = lightsheet_data.columns[~lightsheet_data.columns.isin(['abbreviation', 'Region_Name'])]\n",
    "\n",
    "# For each of the datasets, replace '6FDET' with '6-F-DET'\n",
    "lightsheet_data['dataset'] = lightsheet_data['dataset'].str.replace('6FDET', '6-F-DET')\n",
    "\n",
    "# Create a pivot table \n",
    "ls_pivot = lightsheet_data.pivot(index=dataFeature, columns='dataset', values='count')\n",
    "\n",
    "# Add the word ' count' to each of the columns\n",
    "ls_pivot.columns = [x + ' count' for x in ls_pivot.columns]\n",
    "\n",
    "# Add a column for the Region_Name according to abbreviation, make it the second column\n",
    "columnNames = ls_pivot.columns\n",
    "ls_pivot['region name'] = ls_pivot.index.map(regionArea2.set_index(dataFeature)['region name'])\n",
    "ls_pivot = ls_pivot[['region name'] + list(columnNames)]\n",
    "\n",
    "# Resort according to Areas\n",
    "resorting_idx = regionArea[dataFeature]\n",
    "ls_pivot = ls_pivot.loc[resorting_idx]\n",
    "\n",
    "# Save to a csv file\n",
    "ls_pivot.to_csv('suppTable_all.csv')"
   ]
  },
  {
   "cell_type": "code",
   "execution_count": 16,
   "metadata": {},
   "outputs": [],
   "source": [
    "# Take a mean across each of the drug values for each region\n",
    "lightsheet_data_mean = lightsheet_data.groupby(['abbreviation', 'drug'])['count'].mean().reset_index()\n",
    "\n",
    "# Pivot the table\n",
    "lightsheet_data_mean_pivot = lightsheet_data_mean.pivot(index='abbreviation', columns='drug', values='count')\n",
    "\n",
    "lightsheet_data_mean_pivot.columns = [x + ' mean count' for x in lightsheet_data_mean_pivot.columns]\n",
    "\n",
    "# Add a column for the Region_Name according to abbreviation, make it the second column\n",
    "columnNames = lightsheet_data_mean_pivot.columns\n",
    "lightsheet_data_mean_pivot['region name'] = lightsheet_data_mean_pivot.index.map(regionArea2.set_index(dataFeature)['region name'])\n",
    "lightsheet_data_mean_pivot = lightsheet_data_mean_pivot[['region name'] + list(columnNames)]\n",
    "\n",
    "# Resort according to Areas\n",
    "resorting_idx = regionArea[dataFeature]\n",
    "lightsheet_data_mean_pivot = lightsheet_data_mean_pivot.loc[resorting_idx]\n",
    "\n",
    "# Save to CSV\n",
    "lightsheet_data_mean_pivot.to_csv('suppTable_mean.csv')"
   ]
  }
 ],
 "metadata": {
  "kernelspec": {
   "display_name": "cFosProject",
   "language": "python",
   "name": "python3"
  },
  "language_info": {
   "codemirror_mode": {
    "name": "ipython",
    "version": 3
   },
   "file_extension": ".py",
   "mimetype": "text/x-python",
   "name": "python",
   "nbconvert_exporter": "python",
   "pygments_lexer": "ipython3",
   "version": "3.10.6"
  }
 },
 "nbformat": 4,
 "nbformat_minor": 2
}
