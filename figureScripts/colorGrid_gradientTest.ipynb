{
 "cells": [
  {
   "cell_type": "code",
   "execution_count": 24,
   "metadata": {},
   "outputs": [
    {
     "data": {
      "image/png": "[encoded data removed]",
      "text/plain": [
       "<Figure size 189.6x189.6 with 1 Axes>"
      ]
     },
     "metadata": {},
     "output_type": "display_data"
    },
    {
     "data": {
      "image/png": "[encoded data removed]",
      "text/plain": [
       "<Figure size 189.6x189.6 with 1 Axes>"
      ]
     },
     "metadata": {},
     "output_type": "display_data"
    }
   ],
   "source": [
    "import matplotlib.pyplot as plt\n",
    "import numpy as np\n",
    "import matplotlib.colors as mcolors\n",
    "import random\n",
    "import os\n",
    "\n",
    "# Figure dir\n",
    "figDir = os.path.join(os.getcwd(), 'figures_output')\n",
    "if not os.path.isdir(figDir):\n",
    "    os.makedirs(figDir)\n",
    "\n",
    "\n",
    "# Create images corresponding to the train/test split (SampleCounts 6, 4) and the process post feature selection (RegionCount 6, 4)\n",
    "sampleCount = [6]\n",
    "RegionCount = [6]\n",
    "\n",
    "# Create all possible combinations\n",
    "allCombs = []\n",
    "for i in range(len(sampleCount)):\n",
    "    for j in range(len(RegionCount)):\n",
    "        allCombs.append((RegionCount[j], sampleCount[i]))\n",
    "\n",
    "# Define colors for the columns\n",
    "colors = ['red', 'green', 'blue', 'purple', 'orange', 'gold'] # Full set\n",
    "colorSub = ['red', 'green', 'purple', 'orange'] # subset to show feature selection\n",
    "\n",
    "# Define the number of gradient steps and grid size\n",
    "num_steps = 6\n",
    "color_step = .16\n",
    "gridFigSize = (1.896, 1.896)\n",
    "\n",
    "# Displaying the shadow feature set in Figure 3A requires shuffling. \n",
    "perRow = [True, False]\n",
    "shuffleSet = [False, True]\n",
    "shuffleSet_name = ['Grid.svg', 'Grid_Shuffle.svg']\n",
    "\n",
    "# Create factor for alpha modulation\n",
    "# alphaSet = np.linspace(0.9, .05, num_steps)\n",
    "alphaSet = [0.8, 0.6, 0.35, 0.18, 0.08, 0.01]\n",
    "gridlinewidth = 0.5\n",
    "\n",
    "for grid_size in allCombs:\n",
    "    for shuffle_switch, fName in zip(shuffleSet, shuffleSet_name):\n",
    "        \n",
    "        if grid_size[0] == 6:\n",
    "            colorSet = colors\n",
    "        else:\n",
    "            colorSet = colorSub\n",
    "\n",
    "        # Create a gradient matrix\n",
    "        gradient_matrix = np.zeros((grid_size[0], grid_size[1], 4))\n",
    "        for i in range(grid_size[0]):\n",
    "            for j in range(grid_size[1]):\n",
    "                color_index = min(j, len(colorSet) - 1)\n",
    "                gradient_matrix[i, j] = mcolors.to_rgba(colorSet[color_index], alphaSet[i])\n",
    "\n",
    "        # Remove the 1st and 4th rows to illustrate train/test split\n",
    "        gradient_matrix = np.delete(gradient_matrix, [0, 3], axis=0)\n",
    "        fName = f'droppedCols_{fName}'\n",
    "        # grid_size = (grid_size[0], grid_size[1]-2)\n",
    "\n",
    "        # Shuffle columns if needed\n",
    "        if shuffle_switch:\n",
    "            for col_i in np.arange(gradient_matrix.shape[1]):\n",
    "                random.shuffle(gradient_matrix[:, col_i, 3])\n",
    "\n",
    "        # Plotting\n",
    "        columns = np.shape(gradient_matrix)[1]\n",
    "\n",
    "        # Create the figure and axis\n",
    "        fig, ax = plt.subplots(figsize=(gridFigSize[0], gridFigSize[1]))\n",
    "\n",
    "        # Plot the gradient matrix as a colored table\n",
    "        ax.imshow(np.swapaxes(gradient_matrix, 0, 1), aspect='auto')\n",
    "\n",
    "        # Remove x and y ticks\n",
    "        ax.set_xticks([])\n",
    "        ax.set_yticks([])\n",
    "\n",
    "        # Draw lines to separate cells\n",
    "        for i in range(1, grid_size[1]):\n",
    "            ax.axhline(i - 0.5, color='black', linewidth=gridlinewidth)\n",
    "        for j in range(1, grid_size[0]):\n",
    "            ax.axvline(j - 0.5, color='black', linewidth=gridlinewidth)\n",
    "\n",
    "        fig.savefig(os.path.join(figDir, fName), format='svg', dpi=1200, bbox_inches='tight')"
   ]
  }
 ],
 "metadata": {
  "kernelspec": {
   "display_name": "cFosProject",
   "language": "python",
   "name": "python3"
  },
  "language_info": {
   "codemirror_mode": {
    "name": "ipython",
    "version": 3
   },
   "file_extension": ".py",
   "mimetype": "text/x-python",
   "name": "python",
   "nbconvert_exporter": "python",
   "pygments_lexer": "ipython3",
   "version": "3.10.6"
  }
 },
 "nbformat": 4,
 "nbformat_minor": 2
}
