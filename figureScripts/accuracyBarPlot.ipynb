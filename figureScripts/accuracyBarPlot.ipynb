{
 "cells": [
  {
   "cell_type": "markdown",
   "metadata": {},
   "source": [
    "# Figure 4 - Model Performance"
   ]
  },
  {
   "cell_type": "markdown",
   "metadata": {},
   "source": [
    "## Retrieve the relevant files."
   ]
  },
  {
   "cell_type": "code",
   "execution_count": 2,
   "metadata": {},
   "outputs": [
    {
     "name": "stdout",
     "output_type": "stream",
     "text": [
      "Found 'scoreDict.pkl' files in directories containing ['data=count_norm-', 'PowerTrans_RobScal_fSel_BorFS_clf_LogReg(multinom)_CV100']:\n",
      "C:\\OneDrive\\KwanLab\\Lightsheet_cFos_Pipeline\\1.scaled_Output\\classif\\data=count_norm-PsiDMT\\PowerTrans_RobScal_fSel_BorFS_clf_LogReg(multinom)_CV100\\scoreDict_Real.pkl\n"
     ]
    },
    {
     "ename": "FileNotFoundError",
     "evalue": "[Errno 2] No such file or directory: 'C:\\\\OneDrive\\\\KwanLab\\\\Lightsheet_cFos_Pipeline\\\\1.scaled_Output\\\\classif\\\\data=count_norm-PsiDMT\\\\PowerTrans_RobScal_fSel_BorFS_clf_LogReg(multinom)_CV100\\\\scoreDict_Shuffle.pkl'",
     "output_type": "error",
     "traceback": [
      "\u001b[1;31m---------------------------------------------------------------------------\u001b[0m",
      "\u001b[1;31mFileNotFoundError\u001b[0m                         Traceback (most recent call last)",
      "Input \u001b[1;32mIn [2]\u001b[0m, in \u001b[0;36m<cell line: 43>\u001b[1;34m()\u001b[0m\n\u001b[0;32m     57\u001b[0m \u001b[38;5;66;03m# Load the scrambled dicts\u001b[39;00m\n\u001b[0;32m     58\u001b[0m scramblePath \u001b[38;5;241m=\u001b[39m path\u001b[38;5;241m.\u001b[39mreplace(\u001b[38;5;124m'\u001b[39m\u001b[38;5;124m_Real\u001b[39m\u001b[38;5;124m'\u001b[39m, \u001b[38;5;124m'\u001b[39m\u001b[38;5;124m_Shuffle\u001b[39m\u001b[38;5;124m'\u001b[39m)\n\u001b[1;32m---> 59\u001b[0m \u001b[38;5;28;01mwith\u001b[39;00m \u001b[38;5;28;43mopen\u001b[39;49m\u001b[43m(\u001b[49m\u001b[43mscramblePath\u001b[49m\u001b[43m,\u001b[49m\u001b[43m \u001b[49m\u001b[38;5;124;43m'\u001b[39;49m\u001b[38;5;124;43mrb\u001b[39;49m\u001b[38;5;124;43m'\u001b[39;49m\u001b[43m)\u001b[49m \u001b[38;5;28;01mas\u001b[39;00m f:                 \n\u001b[0;32m     60\u001b[0m     featureDict \u001b[38;5;241m=\u001b[39m pkl\u001b[38;5;241m.\u001b[39mload(f)\n\u001b[0;32m     62\u001b[0m     meanScrambleScores\u001b[38;5;241m.\u001b[39mappend(np\u001b[38;5;241m.\u001b[39mmean(featureDict[\u001b[38;5;124m'\u001b[39m\u001b[38;5;124mscores\u001b[39m\u001b[38;5;124m'\u001b[39m]))\n",
      "\u001b[1;31mFileNotFoundError\u001b[0m: [Errno 2] No such file or directory: 'C:\\\\OneDrive\\\\KwanLab\\\\Lightsheet_cFos_Pipeline\\\\1.scaled_Output\\\\classif\\\\data=count_norm-PsiDMT\\\\PowerTrans_RobScal_fSel_BorFS_clf_LogReg(multinom)_CV100\\\\scoreDict_Shuffle.pkl'"
     ]
    }
   ],
   "source": [
    "import matplotlib.pyplot as plt\n",
    "import numpy as np\n",
    "import matplotlib.colors as mcolors\n",
    "import os, sys, random\n",
    "import pickle as pkl\n",
    "from os.path import exists, join\n",
    "sys.path.append('../dependencies/')\n",
    "sys.path.append('../functionScripts/')\n",
    "\n",
    "import helperFunctions as hf\n",
    "import plotFunctions as pf\n",
    "\n",
    "# Figure dir\n",
    "figDir = os.path.join(os.getcwd(), 'figures_output')\n",
    "if not os.path.isdir(figDir):\n",
    "    os.makedirs(figDir)\n",
    "\n",
    "# Define the target directory\n",
    "targDir = \"C:\\OneDrive\\KwanLab\\Lightsheet_cFos_Pipeline\\\\1.scaled_Output\\\\classif\"\n",
    "\n",
    "# Define a list of substrings to filter directories\n",
    "tagList = ['data=count_norm-', 'PowerTrans_RobScal_fSel_BorFS_clf_LogReg(multinom)_CV100']\n",
    "# tagList = ['data=count_norm-', 'PowerTrans_RobScal_fSel_MrmrFS(30)_clf_LogReg(multinom)_CV20']\n",
    "# tagList = ['data=count_norm-', 'PowerTrans_RobScal_fSel_SelectKBest(k=30)_clf_LogReg(multinom)_CV100']\n",
    "\n",
    "# Call the function and get the list of paths based on the tagList\n",
    "score_dict_paths = []\n",
    "\n",
    "# Walk through the directory and its subdirectories\n",
    "for root, dirs, files in os.walk(targDir):\n",
    "    # Check if 'scoreDict.pkl' is present in the files\n",
    "    if 'scoreDict_Real.pkl' in files:\n",
    "        if all(tag in root for tag in tagList):\n",
    "            score_dict_paths.append(os.path.join(root, 'scoreDict_Real.pkl'))\n",
    "\n",
    "# Each directory name will be used to generate a label, based on the sequence between the strings in the directory name below\n",
    "startStr = 'count_norm-'\n",
    "endStr = '\\PowerTrans'\n",
    "aucScores, meanScores, aucScrambleScores, meanScrambleScores, scoreNames, featureLists  = [], [], [], [], [], []\n",
    "\n",
    "# Print the result\n",
    "print(f\"Found 'scoreDict.pkl' files in directories containing {tagList}:\")\n",
    "for path in score_dict_paths:\n",
    "    print(path)\n",
    "\n",
    "    # Load the scoreDict.pkl file and extract desired accuracy.\n",
    "    with open(path, 'rb') as f:                 \n",
    "        featureDict = pkl.load(f)\n",
    "\n",
    "        meanScores.append(np.mean(featureDict['scores']))\n",
    "        aucScores.append(featureDict['auc']['Mean'])\n",
    "        featureLists.append(featureDict['featuresPerModel'])\n",
    "    \n",
    "    # Extract the label for the entry\n",
    "    scoreNames.append(featureDict['compLabel'])\n",
    "\n",
    "    # Load the scrambled dicts\n",
    "    scramblePath = path.replace('_Real', '_Shuffle')\n",
    "    with open(scramblePath, 'rb') as f:                 \n",
    "        featureDict = pkl.load(f)\n",
    "\n",
    "        meanScrambleScores.append(np.mean(featureDict['scores']))\n",
    "        aucScrambleScores.append(featureDict['auc']['Mean'])"
   ]
  },
  {
   "cell_type": "code",
   "execution_count": null,
   "metadata": {},
   "outputs": [],
   "source": [
    "# Modifying Score names\n",
    "translate_dict = hf.create_translation_dict('classToDrug')\n",
    "scoreNames = hf.replace_strings_with_dict(scoreNames, translate_dict)\n",
    "\n",
    "# Resort them\n",
    "entryListOrder = ['5MEO vs PSI', 'MDMA vs PSI', 'A-SSRI vs PSI', 'KET vs PSI', '6-F-DET vs PSI', '5MEO vs 6-F-DET', 'A-SSRI vs C-SSRI', 'MDMA vs PSI/5MEO', '6-F-DET vs PSI/5MEO']\n",
    "entryListOrder.reverse() # Plotting goes from bottom to top\n",
    "\n",
    "# Find the index to reorder the original list\n",
    "reorder_index = [scoreNames.index(item) for item in entryListOrder]\n",
    "\n",
    "scoreNames_sorted = np.array(scoreNames)[reorder_index]\n",
    "meanScores_sorted = np.array(meanScores)[reorder_index]\n",
    "meanScrambleScores_sorted = np.array(meanScrambleScores)[reorder_index]\n",
    "aucScores_sorted = np.array(aucScores)[reorder_index]\n",
    "aucScrambleScores_sorted = np.array(aucScrambleScores)[reorder_index]\n",
    "\n",
    "# Color palette\n",
    "colorsList = [[82, 211, 216], [56, 135, 190]]\n",
    "colorsList = np.array(colorsList)/256"
   ]
  },
  {
   "cell_type": "markdown",
   "metadata": {},
   "source": [
    "### Set Figure Styles"
   ]
  },
  {
   "cell_type": "code",
   "execution_count": null,
   "metadata": {},
   "outputs": [],
   "source": [
    "# Set font to 12 pt Helvetica\n",
    "plt.rcParams['font.family'] = 'Helvetica'\n",
    "plt.rcParams['font.size'] = 12\n",
    "plt.rcParams['svg.fonttype'] = 'none'"
   ]
  },
  {
   "cell_type": "markdown",
   "metadata": {},
   "source": [
    "# Mean Accuracy"
   ]
  },
  {
   "cell_type": "code",
   "execution_count": null,
   "metadata": {},
   "outputs": [],
   "source": [
    "pf.plot_cross_model_Accuracy(scoreNames_sorted, meanScores_sorted, meanScrambleScores_sorted, colorsList, 'C:\\\\OneDrive\\\\KwanLab\\\\Lightsheet_cFos_Pipeline\\\\figureScripts\\\\')"
   ]
  },
  {
   "cell_type": "markdown",
   "metadata": {},
   "source": [
    "# Mean AUC"
   ]
  },
  {
   "cell_type": "code",
   "execution_count": null,
   "metadata": {},
   "outputs": [],
   "source": [
    "pf.plot_cross_model_AUC(scoreNames_sorted, aucScores_sorted, aucScrambleScores_sorted, colorsList, 'C:\\\\OneDrive\\\\KwanLab\\\\Lightsheet_cFos_Pipeline\\\\figureScripts\\\\')"
   ]
  }
 ],
 "metadata": {
  "kernelspec": {
   "display_name": "cFosProject",
   "language": "python",
   "name": "python3"
  },
  "language_info": {
   "codemirror_mode": {
    "name": "ipython",
    "version": 3
   },
   "file_extension": ".py",
   "mimetype": "text/x-python",
   "name": "python",
   "nbconvert_exporter": "python",
   "pygments_lexer": "ipython3",
   "version": "3.10.6"
  }
 },
 "nbformat": 4,
 "nbformat_minor": 2
}
