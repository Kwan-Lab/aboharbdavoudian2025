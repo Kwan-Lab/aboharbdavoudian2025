{
 "cells": [
  {
   "cell_type": "markdown",
   "metadata": {},
   "source": [
    "Testing output pkl files"
   ]
  },
  {
   "cell_type": "code",
   "execution_count": null,
   "metadata": {},
   "outputs": [],
   "source": [
    "import os, sys\n",
    "import glob\n",
    "sys.path.append('functionScripts')\n",
    "\n",
    "import classifyFunctions\n",
    "\n",
    "def find_files(directory, file_name):\n",
    "    matches = []\n",
    "    for root, _, files in os.walk(directory):\n",
    "        for file in files:\n",
    "            if file == file_name:\n",
    "                matches.append(os.path.join(root, file))\n",
    "    return matches\n",
    "\n",
    "directory = 'C:\\Pipeline_Temp'\n",
    "file_name = 'Real_outdata.pkl'\n",
    "\n",
    "found_files = find_files(directory, file_name)\n",
    "print('done')"
   ]
  },
  {
   "cell_type": "code",
   "execution_count": null,
   "metadata": {},
   "outputs": [],
   "source": [
    "import re\n",
    "\n",
    "def extract_substring_regex(text, start_marker, end_marker):\n",
    "    pattern = re.compile(re.escape(start_marker) + \"(.*?)\" + re.escape(end_marker))\n",
    "    match = pattern.search(text)\n",
    "    if match:\n",
    "        return match.group(1)\n",
    "    else:\n",
    "        return None"
   ]
  },
  {
   "cell_type": "code",
   "execution_count": null,
   "metadata": {},
   "outputs": [],
   "source": [
    "import pickle as pkl\n",
    "import numpy as np\n",
    "import matplotlib.pyplot as plt\n",
    "\n",
    "for saveFilePath in found_files:\n",
    "    \n",
    "    with open(saveFilePath, 'rb') as f:                 # Unpickle the data:\n",
    "        [classifyDict, modelList, modelStr, saveStr, featureSelSwitch, y_real, y_prob, conf_matrix_list_of_arrays, X_test_trans_list, scores, selected_features_list, selected_features_params, baseline_val, shap_values_list] = pkl.load(f)\n",
    "\n",
    "    print('modelStr:', saveFilePath.split('\\\\')[2])\n",
    "    # print('scores', scores)\n",
    "\n",
    "    # Plot a histogram of the scores\n",
    "    plt.hist(scores)\n",
    "    plt.xlim(0, 1)\n",
    "\n",
    "    saveFilePathScramble = saveFilePath.replace('Real', 'Shuffle')\n",
    "\n",
    "    with open(saveFilePathScramble, 'rb') as f:                 # Unpickle the data:\n",
    "        [classifyDict, modelList, modelStr, saveStr, featureSelSwitch, y_real, y_prob, conf_matrix_list_of_arrays, X_test_trans_list, scores, selected_features_list, selected_features_params, baseline_val, shap_values_list] = pkl.load(f)\n",
    "\n",
    "    # print('modelStr:', modelStr)\n",
    "    # print('scores', scores)\n",
    "\n",
    "    # Plot a histogram of the scores\n",
    "    # Filter out the scores which are none\n",
    "    scores = [score for score in scores if score is not None]\n",
    "\n",
    "    plt.hist(scores)\n",
    "    plt.xlim(0, 1)\n",
    "    plt.show()"
   ]
  }
 ],
 "metadata": {
  "kernelspec": {
   "display_name": "cFosProject",
   "language": "python",
   "name": "python3"
  },
  "language_info": {
   "codemirror_mode": {
    "name": "ipython",
    "version": 3
   },
   "file_extension": ".py",
   "mimetype": "text/x-python",
   "name": "python",
   "nbconvert_exporter": "python",
   "pygments_lexer": "ipython3",
   "version": "3.10.6"
  }
 },
 "nbformat": 4,
 "nbformat_minor": 2
}
