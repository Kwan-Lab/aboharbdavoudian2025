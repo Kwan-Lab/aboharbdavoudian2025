{
 "cells": [
  {
   "cell_type": "markdown",
   "metadata": {},
   "source": [
    "Testing output pkl files"
   ]
  },
  {
   "cell_type": "code",
   "execution_count": null,
   "metadata": {},
   "outputs": [],
   "source": [
    "import pickle as pkl\n",
    "import numpy as np\n",
    "\n",
    "saveFilePath = 'c:\\\\OneDrive\\\\KwanLab\\\\Lightsheet_cFos_Pipeline\\\\Temp\\\\data=count_norm-PsiMDMA\\\\PowerTrans_RobScal_fSel_SelectKBest(k=30)_clf_LogReg(multinom)_CV100\\\\Real_outdata.pkl'\n",
    "\n",
    "with open(saveFilePath, 'rb') as f:                 # Unpickle the data:\n",
    "    [classifyDict, modelList, modelStr, saveStr, featureSelSwitch, y_real, y_prob, conf_matrix_list_of_arrays, X_test_trans_list, scores, selected_features_list, selected_features_params, baseline_val, shap_values_list] = pkl.load(f)\n",
    "\n",
    "print('modelStr:', modelStr)\n",
    "print('scores', scores)\n",
    "\n",
    "saveFilePath = 'c:\\\\OneDrive\\\\KwanLab\\\\Lightsheet_cFos_Pipeline\\\\Temp\\\\data=count_norm-PsiMDMA\\\\PowerTrans_RobScal_fSel_SelectKBest(k=30)_clf_LogReg(multinom)_CV100\\\\Shuffle_outdata.pkl'\n",
    "\n",
    "with open(saveFilePath, 'rb') as f:                 # Unpickle the data:\n",
    "    [classifyDict, modelList, modelStr, saveStr, featureSelSwitch, y_real, y_prob, conf_matrix_list_of_arrays, X_test_trans_list, scores, selected_features_list, selected_features_params, baseline_val, shap_values_list] = pkl.load(f)\n",
    "\n",
    "print('modelStr:', modelStr)\n",
    "print('scores', scores)\n",
    "\n",
    "# Plot a histogram of the scores\n",
    "import matplotlib.pyplot as plt\n",
    "plt.hist(scores, bins=5)\n",
    "plt.show()"
   ]
  }
 ],
 "metadata": {
  "kernelspec": {
   "display_name": "cFosProject",
   "language": "python",
   "name": "python3"
  },
  "language_info": {
   "codemirror_mode": {
    "name": "ipython",
    "version": 3
   },
   "file_extension": ".py",
   "mimetype": "text/x-python",
   "name": "python",
   "nbconvert_exporter": "python",
   "pygments_lexer": "ipython3",
   "version": "3.10.6"
  }
 },
 "nbformat": 4,
 "nbformat_minor": 2
}
