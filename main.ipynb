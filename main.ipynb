{
 "cells": [
  {
   "attachments": {},
   "cell_type": "markdown",
   "metadata": {},
   "source": [
    "# cFos Drug Notebook"
   ]
  },
  {
   "cell_type": "markdown",
   "metadata": {},
   "source": [
    "## Setup"
   ]
  },
  {
   "cell_type": "code",
   "execution_count": null,
   "metadata": {},
   "outputs": [],
   "source": [
    "# Import packages\n",
    "import os, sys, importlib\n",
    "import pandas as pd\n",
    "import numpy as np\n",
    "from tqdm import tqdm\n",
    "import matplotlib.pyplot as plt\n",
    "import seaborn as sns\n",
    "import glob\n",
    "\n",
    "sys.path.append('functionScripts')\n",
    "sys.path.append('dependencies')\n",
    "\n",
    "import initFunctions as init #import createDirs, debugReport, loadLightSheetData\n",
    "import analysisFunctions as af #compareAnimals, drug_stats_and_changes, brainRegionTrend\n",
    "import classifyFunctions as cf #sclassifySamples, reformatData\n",
    "import plotFunctions as pf #totalCountsPlot\n",
    "import helperFunctions as hf\n",
    "import configFunctions as config"
   ]
  },
  {
   "attachments": {},
   "cell_type": "markdown",
   "metadata": {},
   "source": [
    "### Switches"
   ]
  },
  {
   "cell_type": "code",
   "execution_count": null,
   "metadata": {},
   "outputs": [],
   "source": [
    "## Switch to control whether Batch 1 and Batch 2 datasets are analyzed together. Distinct folders for each style.\n",
    "batchSplit = False          # Splits drugs from the first batch of data, from the second, from the 3rd. Batch 1 is labeled with 'a' (aSAL, aKET, aPSI), Batch 3 (cKET, MDMA)\n",
    "splitTag  = ['a', '', 'c']  # Appended the to beginning of data from the first batch (PSI, KET, SAL -> aPSI, KET, aSAL).\n",
    "\n",
    "# Debug\n",
    "debugOutputs = False        # Saves csvs at intervals\n",
    "scalingFactor = True        # Applies 1/total_cells as a scaling factor for mice in batch one.\n",
    "debug_ROI = ['Dorsal nucleus raphe']"
   ]
  },
  {
   "cell_type": "markdown",
   "metadata": {},
   "source": [
    "### Configuration related dictionaries and function calls"
   ]
  },
  {
   "cell_type": "code",
   "execution_count": null,
   "metadata": {},
   "outputs": [],
   "source": [
    "switchDir = dict(batchSplit=batchSplit, splitTag=splitTag, debugOutputs=debugOutputs, scalingFactor=scalingFactor, debug_ROI=debug_ROI)\n",
    "\n",
    "# Make directories, and add their strings to the directory dictionary.\n",
    "dirDict = init.setPath_createDirs()\n",
    "\n",
    "# General Figure Settings\n",
    "config.setup_figure_settings()\n",
    "\n",
    "# Figure 2 related setup\n",
    "heatmapDict = config.return_heatmapDict()\n",
    "\n",
    "#### Figure 3, 4, 5, 6\n",
    "# Configure the classification - testing for quicker results, default for final.\n",
    "\n",
    "# classifyDict = config.return_classifyDict_testing()   # Test with this\n",
    "classifyDict = config.return_classifyDict_default()     # Full run\n",
    "\n",
    "# Plot dict, used to coordinate outputs of classification plotting.\n",
    "plotDict = config.return_plotDict()"
   ]
  },
  {
   "attachments": {},
   "cell_type": "markdown",
   "metadata": {},
   "source": [
    "### Load/Generate Lightsheet df"
   ]
  },
  {
   "cell_type": "code",
   "execution_count": null,
   "metadata": {},
   "outputs": [],
   "source": [
    "# once directories have been made, merge data across batches and with atlases, then save.\n",
    "lightsheet_data = init.loadLightSheetData(dirDict, switchDir)\n",
    "\n",
    "# Create the Drug list for reference. Sorting doesn't seem to matter atm.\n",
    "drugList = list(lightsheet_data.drug.unique())\n",
    "drugListActive = [x for x in drugList if 'SAL' not in x]"
   ]
  },
  {
   "cell_type": "markdown",
   "metadata": {},
   "source": [
    "## Figure 1 - Head twitch response + Cell count per drug"
   ]
  },
  {
   "cell_type": "code",
   "execution_count": null,
   "metadata": {},
   "outputs": [],
   "source": [
    "# pf.plot_headTwitchTotal(dirDict)\n",
    "# pf.plotTotalPerDrug(lightsheet_data, 'total_cells', dirDict)"
   ]
  },
  {
   "cell_type": "markdown",
   "metadata": {},
   "source": [
    "## Figure 2 - Data Heatmaps"
   ]
  },
  {
   "cell_type": "code",
   "execution_count": null,
   "metadata": {},
   "outputs": [],
   "source": [
    "# pf.plot_data_heatmap(lightsheet_data, heatmapDict, dirDict)\n",
    "# pf.distance_matrix(lightsheet_data, classifyDict, dirDict)"
   ]
  },
  {
   "cell_type": "markdown",
   "metadata": {},
   "source": [
    "## Figure 3 - Drug Classifier"
   ]
  },
  {
   "cell_type": "code",
   "execution_count": null,
   "metadata": {},
   "outputs": [],
   "source": [
    "### Figure 3b - Supervised Dim Red via LDA\n",
    "ldaDict = dict()\n",
    "importlib.reload(pf)\n",
    "importlib.reload(config)\n",
    "\n",
    "pf.plotLowDimEmbed(lightsheet_data, 'count_norm', dirDict, 'LDA', classifyDict, ldaDict) # 'count_norm', 'total_cells','cell_density'"
   ]
  },
  {
   "cell_type": "code",
   "execution_count": null,
   "metadata": {},
   "outputs": [],
   "source": [
    "ldaDict = dict()\n",
    "importlib.reload(pf)\n",
    "importlib.reload(config)\n",
    "\n",
    "# ldaDict['AnalysisName'] = [[Training Set], [Testing Set]]\n",
    "ldaDict['LO_6FDET'] = [['5MEO', 'A-SSRI', 'C-SSRI', 'KET', 'MDMA', 'PSI', 'SAL'], drugList]\n",
    "# ldaDict['LO_6FDET_SSRIs'] = [['5MEO', 'KET', 'MDMA', 'PSI', 'SAL'], drugList]\n",
    "# ldaDict['LO_SSRIs'] = [['5MEO', 'KET', 'MDMA', 'PSI', 'SAL', '6-F-DET'], drugList]\n",
    "\n",
    "pf.plotLowDimEmbed(lightsheet_data, 'count_norm', dirDict, 'LDA', classifyDict, ldaDict) # 'count_norm', 'total_cells','cell_density'"
   ]
  },
  {
   "cell_type": "code",
   "execution_count": null,
   "metadata": {},
   "outputs": [],
   "source": [
    "### Figure 3c/d - Drug based Confusion Matrix + PR Curves\n",
    "# importlib.reload(cf)\n",
    "# importlib.reload(pf)\n",
    "# importlib.reload(hf)\n",
    "\n",
    "cf.classifySamples(lightsheet_data, classifyDict, plotDict, dirDict)"
   ]
  },
  {
   "cell_type": "markdown",
   "metadata": {},
   "source": [
    "## Figure 4 - 'PSI vs' classification"
   ]
  },
  {
   "cell_type": "markdown",
   "metadata": {},
   "source": [
    "### Run the classifications"
   ]
  },
  {
   "cell_type": "code",
   "execution_count": null,
   "metadata": {},
   "outputs": [],
   "source": [
    "# Revise Plot dict below\n",
    "importlib.reload(cf)\n",
    "importlib.reload(hf)\n",
    "plotDict['plot_ConfusionMatrix'] = True\n",
    "plotDict['plot_PRcurve'] = True\n",
    "plotDict['plot_SHAPsummary'] = False\n",
    "plotDict['plot_SHAPforce'] = False\n",
    "plotDict['featureCorralogram'] = False\n",
    "\n",
    "# classifyVec = ['drug', 'class_Psi5MEO', 'class_PsiKet', 'class_PsiMDMA', 'class_PsiDF', 'class_PsiSSRI', 'class_DT', 'class_5HTR', 'class_5HT2A', 'class_SSRI']\n",
    "\n",
    "classifyVec = ['drug']\n",
    "\n",
    "for i in classifyVec:\n",
    "    try:\n",
    "        print(f\"Classifying {i}\")\n",
    "        classifyDict['label'] = i\n",
    "        cf.classifySamples(lightsheet_data, classifyDict, plotDict, dirDict)\n",
    "    except Exception:\n",
    "        print(f\"\\n Failed to classify {i}\")"
   ]
  },
  {
   "cell_type": "markdown",
   "metadata": {},
   "source": [
    "### 4x. Classifications w/o 6-F-DET in training set"
   ]
  },
  {
   "cell_type": "code",
   "execution_count": null,
   "metadata": {},
   "outputs": [],
   "source": [
    "importlib.reload(hf)\n",
    "importlib.reload(cf)\n",
    "importlib.reload(config)\n",
    "plotDict['plot_ConfusionMatrix'] = True\n",
    "plotDict['plot_PRcurve'] = False\n",
    "plotDict['plot_SHAPsummary'] = False\n",
    "plotDict['plot_SHAPforce'] = False\n",
    "plotDict['featureCorralogram'] = False\n",
    "classifyDict['saveLoadswitch'] = True\n",
    "classifyDict['shuffle'] = False\n",
    "\n",
    "classifyVec = ['LO_6FDET']\n",
    "\n",
    "for i in classifyVec:\n",
    "    try:\n",
    "        print(f\"Classifying {i}\")\n",
    "        classifyDict['label'] = i\n",
    "        cf.classifySamples(lightsheet_data, classifyDict, plotDict, dirDict)\n",
    "    except Exception:\n",
    "        print(f\"\\n Failed to classify {i}\")"
   ]
  },
  {
   "cell_type": "markdown",
   "metadata": {},
   "source": [
    "### Figure setup"
   ]
  },
  {
   "cell_type": "code",
   "execution_count": null,
   "metadata": {},
   "outputs": [],
   "source": [
    "importlib.reload(hf)\n",
    "importlib.reload(config)\n",
    "importlib.reload(pf)\n",
    "\n",
    "# Figure Settings\n",
    "config.setup_figure_settings()\n",
    "\n",
    "filterByFreq = .75 * classifyDict['CV_count']\n",
    "\n",
    "sortedNames = ['5MEO vs PSI', 'MDMA vs PSI', 'A-SSRI vs PSI', 'KET vs PSI', '6-F-DET vs PSI', '5MEO vs 6-F-DET', 'A-SSRI vs C-SSRI', 'MDMA vs PSI/5MEO', '6-F-DET vs PSI/5MEO']\n",
    "\n",
    "sortedNames.reverse()\n",
    "\n",
    "featureLists, comparisonNames, aucScores, meanScores, aucScrambleScores, meanScrambleScores = hf.retrieve_dict_data(dirDict, classifyDict)\n",
    "\n",
    "sortIdx = hf.sort_comparison_idx(sortedNames, comparisonNames)\n",
    "\n",
    "featureLists = [featureLists[i] for i in sortIdx]\n",
    "comparisonNames = [comparisonNames[i] for i in sortIdx]\n",
    "aucScores = [aucScores[i] for i in sortIdx]\n",
    "meanScores = [meanScores[i] for i in sortIdx]\n",
    "aucScrambleScores = [aucScrambleScores[i] for i in sortIdx]\n",
    "meanScrambleScores = [meanScrambleScores[i] for i in sortIdx]"
   ]
  },
  {
   "cell_type": "markdown",
   "metadata": {},
   "source": [
    "### Figure 4b - mean AUPRC across comparisons"
   ]
  },
  {
   "cell_type": "code",
   "execution_count": null,
   "metadata": {},
   "outputs": [],
   "source": [
    "# Color palette\n",
    "colorsList = [[100, 100, 100], [180, 180, 180]]\n",
    "colorsList = np.array(colorsList)/256\n",
    "importlib.reload(pf)\n",
    "\n",
    "pf.plot_cross_model_AUC(comparisonNames, aucScores, aucScrambleScores, colorsList, dirDict)"
   ]
  },
  {
   "cell_type": "markdown",
   "metadata": {},
   "source": [
    "### Figure 4c/d - Feature counts and frequencies"
   ]
  },
  {
   "cell_type": "code",
   "execution_count": null,
   "metadata": {},
   "outputs": [],
   "source": [
    "importlib.reload(pf)\n",
    "\n",
    "# Reverse both only once for the final plot.\n",
    "# comparisonNames.reverse()\n",
    "# featureLists.reverse()\n",
    "\n",
    "pf.plot_featureCount_violin(comparisonNames, featureLists, dirDict)\n",
    "# pf.plot_similarity_matrix(comparisonNames, featureLists, filterByFreq, dirDict)\n",
    "# pf.plot_featureOverlap_VennDiagram(comparisonNames, featureLists, filterByFreq, dirDict)\n",
    "# pf.plot_featureHeatMap(lightsheet_data, comparisonNames, featureLists, filterByFreq, dirDict)9+"
   ]
  },
  {
   "cell_type": "markdown",
   "metadata": {},
   "source": [
    "## Figure 5 - PSI vs 5MEO SHAP analysis"
   ]
  },
  {
   "cell_type": "code",
   "execution_count": null,
   "metadata": {},
   "outputs": [],
   "source": [
    "plotDict['plot_ConfusionMatrix'] = False\n",
    "plotDict['plot_PRcurve'] = False\n",
    "plotDict['plot_SHAPsummary'] = True\n",
    "plotDict['plot_SHAPforce'] = True\n",
    "importlib.reload(cf)\n",
    "importlib.reload(pf)\n",
    "\n",
    "classifyDict['label'] = 'class_Psi5MEO'\n",
    "\n",
    "cf.classifySamples(lightsheet_data, classifyDict, plotDict, dirDict)"
   ]
  },
  {
   "cell_type": "markdown",
   "metadata": {},
   "source": [
    "## Figure 6 - PSI vs KET, A-SSRI, and MDMA analysis"
   ]
  },
  {
   "cell_type": "code",
   "execution_count": null,
   "metadata": {},
   "outputs": [],
   "source": [
    "# Revise Plot dict below\n",
    "plotDict['plot_SHAPsummary'] = True\n",
    "plotDict['plot_SHAPforce'] = False\n",
    "\n",
    "classifyVec = ['class_PsiMDMA', 'class_PsiSSRI', 'class_PsiKet']\n",
    "\n",
    "for i in classifyVec:\n",
    "    try:\n",
    "        print(f\"Classifying {i}\")\n",
    "        classifyDict['label'] = i\n",
    "        cf.classifySamples(lightsheet_data, classifyDict, plotDict, dirDict)\n",
    "    except Exception:\n",
    "        print(f\"\\n Failed to classify {i}\")"
   ]
  },
  {
   "cell_type": "markdown",
   "metadata": {},
   "source": [
    "## Supplemental Figure Generation"
   ]
  },
  {
   "cell_type": "code",
   "execution_count": null,
   "metadata": {},
   "outputs": [],
   "source": [
    "# Change figure settings for this large figure\n",
    "config.setup_figure_changeFonts(6)\n",
    "\n",
    "# Additional Processing - Generate Data structures for changes\n",
    "cfos_diff, cfos_diff_labels = af.drug_stats_and_changes(lightsheet_data, drugList, True)[2:4]\n",
    "\n",
    "# Plotting - if the plot hasn't already been generated\n",
    "fileOutName = os.path.join(dirDict['outDir'], 'fig2_deltaPerRegion_SAL')\n",
    "if len(glob.glob(fileOutName + '.*')) == 0:\n",
    "    pf.plot_cFos_delta(cfos_diff, drugList, fileOutName)"
   ]
  },
  {
   "cell_type": "markdown",
   "metadata": {},
   "source": [
    "### mRNA + cFos correlations"
   ]
  },
  {
   "cell_type": "code",
   "execution_count": null,
   "metadata": {},
   "outputs": [],
   "source": [
    "ABA_dict_filt = hf.create_ABA_dict(dirDict)\n",
    "\n",
    "# get allen names\n",
    "hierarchy_meso_ids = ABA_dict_filt.rename(columns={'Region ID':'Region_ID'})\n",
    "ZscoreStructure = hf.generate_ZscoreStructure(hierarchy_meso_ids, dirDict)\n",
    "\n",
    "#cFos\n",
    "cfos_all = af.drug_stats_and_changes(lightsheet_data, drugList, True)[0]\n",
    "cfos_all = cfos_all.merge(hierarchy_meso_ids, on='abbreviation')\n",
    "cfos_all = cfos_all.rename(columns={'Region_ID_x':'Region_ID'})\n",
    "cfos_all = cfos_all.drop(columns={'Region_ID_y'})\n",
    "\n",
    "cfos_x_genes = cfos_all.merge(ZscoreStructure, on=['Region_ID','abbreviation','Brain Area'])\n",
    "cfos_x_genes = cfos_x_genes.rename(columns={'Region_Name_x':'Region_Name'})"
   ]
  },
  {
   "cell_type": "code",
   "execution_count": null,
   "metadata": {},
   "outputs": [],
   "source": [
    "# Gene x structure correlation \n",
    "drugListActive = ['MDMA', '5MEO', '6-F-DET', 'A-SSRI', 'C-SSRI', 'KET', 'PSI']\n",
    "regionSet = ['Cortex']\n",
    "geneDict, geneColorDict, setNames = config.cFos_mRNA_corr_settings()\n",
    "plotNameDict = hf.create_translation_dict(dictType='drug')\n",
    "\n",
    "# Generates files and saves them in tempdir\n",
    "af.gen_gene_corr(cfos_x_genes, splitTag, drugListActive, regionSet, dirDict) \n",
    "\n",
    "# Use the data generated above to plot.\n",
    "pf.genereate_cFos_gene_corr_plots(geneDict, geneColorDict, setNames, regionSet, plotNameDict, dirDict)"
   ]
  }
 ],
 "metadata": {
  "kernelspec": {
   "display_name": "cFosProject",
   "language": "python",
   "name": "python3"
  },
  "language_info": {
   "codemirror_mode": {
    "name": "ipython",
    "version": 3
   },
   "file_extension": ".py",
   "mimetype": "text/x-python",
   "name": "python",
   "nbconvert_exporter": "python",
   "pygments_lexer": "ipython3",
   "version": "3.10.6"
  },
  "orig_nbformat": 4
 },
 "nbformat": 4,
 "nbformat_minor": 2
}
